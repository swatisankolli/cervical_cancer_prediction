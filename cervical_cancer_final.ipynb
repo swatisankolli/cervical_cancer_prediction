{
 "cells": [
  {
   "cell_type": "markdown",
   "metadata": {},
   "source": [
    "# Cervical Cancer Prediction"
   ]
  },
  {
   "cell_type": "markdown",
   "metadata": {},
   "source": [
    "## Objective"
   ]
  },
  {
   "cell_type": "markdown",
   "metadata": {},
   "source": [
    "We have to predict the patients who are most likely to suffer from cervical cancer using Machine Learning algorithms for Classifications, Visualizations and Analysis."
   ]
  },
  {
   "cell_type": "markdown",
   "metadata": {},
   "source": [
    "## Knowing the Dataset"
   ]
  },
  {
   "cell_type": "markdown",
   "metadata": {},
   "source": [
    "- This is an exploration of this Kaggle dataset: https://www.kaggle.com/loveall/cervical-cancer-risk-classification. \n",
    "- The actual dataset is obtained from: https://archive.ics.uci.edu/ml/datasets/Cervical+cancer+%28Risk+Factors%29"
   ]
  },
  {
   "cell_type": "markdown",
   "metadata": {},
   "source": [
    "## What is Cervical Cancer?"
   ]
  },
  {
   "cell_type": "markdown",
   "metadata": {},
   "source": [
    "- Cervical cancer is a malignant\ttumour starting in the cells of a woman’s cervix, and possibly spreading or metastasizing to other parts of\ther\tbody.\n",
    "\n",
    "- About 11,000 new cases of invasive cervical cancer are diagnosed each year in the U.S.\n",
    "\n",
    "- Although the\tnumber of cases of cervical cancer have\tbeen declining in recent years due to more advanced screening and early detection with the Pap test, 300,000 women worldwide die each year due to cervical cancer.\n",
    "\n",
    "- In the United States, cervical cancer mortality rates plunged by 74% from 1955 - 1992 thanks to increased screening and early detection with the Pap test. \n",
    "\n",
    "The present project focuses on predicting whether a woman will result in having a biopsy (as she may be having cervical cancer)"
   ]
  },
  {
   "cell_type": "markdown",
   "metadata": {},
   "source": [
    "## Step 0: Basic Imports"
   ]
  },
  {
   "cell_type": "code",
   "execution_count": 12,
   "metadata": {},
   "outputs": [],
   "source": [
    "import numpy as np\n",
    "import pandas as pd\n",
    "import matplotlib.pyplot as plt\n",
    "%matplotlib inline\n",
    "\n",
    "import seaborn as sns\n",
    "\n",
    "import warnings\n",
    "warnings.filterwarnings(\"ignore\")\n",
    "\n",
    "pd.set_option('display.max_columns', 100)"
   ]
  },
  {
   "cell_type": "markdown",
   "metadata": {},
   "source": [
    "## Step 1: Load Dataset"
   ]
  },
  {
   "cell_type": "code",
   "execution_count": 13,
   "metadata": {},
   "outputs": [
    {
     "name": "stdout",
     "output_type": "stream",
     "text": [
      "(858, 36)\n"
     ]
    },
    {
     "data": {
      "text/html": [
       "<div>\n",
       "<style scoped>\n",
       "    .dataframe tbody tr th:only-of-type {\n",
       "        vertical-align: middle;\n",
       "    }\n",
       "\n",
       "    .dataframe tbody tr th {\n",
       "        vertical-align: top;\n",
       "    }\n",
       "\n",
       "    .dataframe thead th {\n",
       "        text-align: right;\n",
       "    }\n",
       "</style>\n",
       "<table border=\"1\" class=\"dataframe\">\n",
       "  <thead>\n",
       "    <tr style=\"text-align: right;\">\n",
       "      <th></th>\n",
       "      <th>Age</th>\n",
       "      <th>Number of sexual partners</th>\n",
       "      <th>First sexual intercourse</th>\n",
       "      <th>Num of pregnancies</th>\n",
       "      <th>Smokes</th>\n",
       "      <th>Smokes (years)</th>\n",
       "      <th>Smokes (packs/year)</th>\n",
       "      <th>Hormonal Contraceptives</th>\n",
       "      <th>Hormonal Contraceptives (years)</th>\n",
       "      <th>IUD</th>\n",
       "      <th>IUD (years)</th>\n",
       "      <th>STDs</th>\n",
       "      <th>STDs (number)</th>\n",
       "      <th>STDs:condylomatosis</th>\n",
       "      <th>STDs:cervical condylomatosis</th>\n",
       "      <th>STDs:vaginal condylomatosis</th>\n",
       "      <th>STDs:vulvo-perineal condylomatosis</th>\n",
       "      <th>STDs:syphilis</th>\n",
       "      <th>STDs:pelvic inflammatory disease</th>\n",
       "      <th>STDs:genital herpes</th>\n",
       "      <th>STDs:molluscum contagiosum</th>\n",
       "      <th>STDs:AIDS</th>\n",
       "      <th>STDs:HIV</th>\n",
       "      <th>STDs:Hepatitis B</th>\n",
       "      <th>STDs:HPV</th>\n",
       "      <th>STDs: Number of diagnosis</th>\n",
       "      <th>STDs: Time since first diagnosis</th>\n",
       "      <th>STDs: Time since last diagnosis</th>\n",
       "      <th>Dx:Cancer</th>\n",
       "      <th>Dx:CIN</th>\n",
       "      <th>Dx:HPV</th>\n",
       "      <th>Dx</th>\n",
       "      <th>Hinselmann</th>\n",
       "      <th>Schiller</th>\n",
       "      <th>Citology</th>\n",
       "      <th>Biopsy</th>\n",
       "    </tr>\n",
       "  </thead>\n",
       "  <tbody>\n",
       "    <tr>\n",
       "      <th>677</th>\n",
       "      <td>46</td>\n",
       "      <td>1.0</td>\n",
       "      <td>13.0</td>\n",
       "      <td>0.0</td>\n",
       "      <td>0.0</td>\n",
       "      <td>0.0</td>\n",
       "      <td>0.0</td>\n",
       "      <td>0.0</td>\n",
       "      <td>0.0</td>\n",
       "      <td>0.0</td>\n",
       "      <td>0.0</td>\n",
       "      <td>0.0</td>\n",
       "      <td>0.0</td>\n",
       "      <td>0.0</td>\n",
       "      <td>0.0</td>\n",
       "      <td>0.0</td>\n",
       "      <td>0.0</td>\n",
       "      <td>0.0</td>\n",
       "      <td>0.0</td>\n",
       "      <td>0.0</td>\n",
       "      <td>0.0</td>\n",
       "      <td>0.0</td>\n",
       "      <td>0.0</td>\n",
       "      <td>0.0</td>\n",
       "      <td>0.0</td>\n",
       "      <td>0</td>\n",
       "      <td>?</td>\n",
       "      <td>?</td>\n",
       "      <td>0</td>\n",
       "      <td>0</td>\n",
       "      <td>0</td>\n",
       "      <td>0</td>\n",
       "      <td>0</td>\n",
       "      <td>0</td>\n",
       "      <td>0</td>\n",
       "      <td>0</td>\n",
       "    </tr>\n",
       "    <tr>\n",
       "      <th>173</th>\n",
       "      <td>29</td>\n",
       "      <td>3.0</td>\n",
       "      <td>15.0</td>\n",
       "      <td>3.0</td>\n",
       "      <td>0.0</td>\n",
       "      <td>0.0</td>\n",
       "      <td>0.0</td>\n",
       "      <td>0.0</td>\n",
       "      <td>0.0</td>\n",
       "      <td>0.0</td>\n",
       "      <td>0.0</td>\n",
       "      <td>1.0</td>\n",
       "      <td>1.0</td>\n",
       "      <td>0.0</td>\n",
       "      <td>0.0</td>\n",
       "      <td>0.0</td>\n",
       "      <td>0.0</td>\n",
       "      <td>0.0</td>\n",
       "      <td>0.0</td>\n",
       "      <td>0.0</td>\n",
       "      <td>0.0</td>\n",
       "      <td>0.0</td>\n",
       "      <td>1.0</td>\n",
       "      <td>0.0</td>\n",
       "      <td>0.0</td>\n",
       "      <td>1</td>\n",
       "      <td>16.0</td>\n",
       "      <td>16.0</td>\n",
       "      <td>0</td>\n",
       "      <td>0</td>\n",
       "      <td>0</td>\n",
       "      <td>0</td>\n",
       "      <td>0</td>\n",
       "      <td>0</td>\n",
       "      <td>0</td>\n",
       "      <td>0</td>\n",
       "    </tr>\n",
       "    <tr>\n",
       "      <th>457</th>\n",
       "      <td>15</td>\n",
       "      <td>3.0</td>\n",
       "      <td>14.0</td>\n",
       "      <td>1.0</td>\n",
       "      <td>1.0</td>\n",
       "      <td>1.266972909</td>\n",
       "      <td>0.5132021277</td>\n",
       "      <td>?</td>\n",
       "      <td>?</td>\n",
       "      <td>?</td>\n",
       "      <td>?</td>\n",
       "      <td>?</td>\n",
       "      <td>?</td>\n",
       "      <td>?</td>\n",
       "      <td>?</td>\n",
       "      <td>?</td>\n",
       "      <td>?</td>\n",
       "      <td>?</td>\n",
       "      <td>?</td>\n",
       "      <td>?</td>\n",
       "      <td>?</td>\n",
       "      <td>?</td>\n",
       "      <td>?</td>\n",
       "      <td>?</td>\n",
       "      <td>?</td>\n",
       "      <td>0</td>\n",
       "      <td>?</td>\n",
       "      <td>?</td>\n",
       "      <td>0</td>\n",
       "      <td>0</td>\n",
       "      <td>0</td>\n",
       "      <td>0</td>\n",
       "      <td>0</td>\n",
       "      <td>0</td>\n",
       "      <td>1</td>\n",
       "      <td>0</td>\n",
       "    </tr>\n",
       "    <tr>\n",
       "      <th>472</th>\n",
       "      <td>35</td>\n",
       "      <td>2.0</td>\n",
       "      <td>17.0</td>\n",
       "      <td>3.0</td>\n",
       "      <td>0.0</td>\n",
       "      <td>0.0</td>\n",
       "      <td>0.0</td>\n",
       "      <td>1.0</td>\n",
       "      <td>1.0</td>\n",
       "      <td>0.0</td>\n",
       "      <td>0.0</td>\n",
       "      <td>0.0</td>\n",
       "      <td>0.0</td>\n",
       "      <td>0.0</td>\n",
       "      <td>0.0</td>\n",
       "      <td>0.0</td>\n",
       "      <td>0.0</td>\n",
       "      <td>0.0</td>\n",
       "      <td>0.0</td>\n",
       "      <td>0.0</td>\n",
       "      <td>0.0</td>\n",
       "      <td>0.0</td>\n",
       "      <td>0.0</td>\n",
       "      <td>0.0</td>\n",
       "      <td>0.0</td>\n",
       "      <td>0</td>\n",
       "      <td>?</td>\n",
       "      <td>?</td>\n",
       "      <td>0</td>\n",
       "      <td>0</td>\n",
       "      <td>0</td>\n",
       "      <td>0</td>\n",
       "      <td>1</td>\n",
       "      <td>1</td>\n",
       "      <td>0</td>\n",
       "      <td>1</td>\n",
       "    </tr>\n",
       "    <tr>\n",
       "      <th>12</th>\n",
       "      <td>45</td>\n",
       "      <td>4.0</td>\n",
       "      <td>14.0</td>\n",
       "      <td>6.0</td>\n",
       "      <td>0.0</td>\n",
       "      <td>0.0</td>\n",
       "      <td>0.0</td>\n",
       "      <td>1.0</td>\n",
       "      <td>10.0</td>\n",
       "      <td>1.0</td>\n",
       "      <td>5.0</td>\n",
       "      <td>0.0</td>\n",
       "      <td>0.0</td>\n",
       "      <td>0.0</td>\n",
       "      <td>0.0</td>\n",
       "      <td>0.0</td>\n",
       "      <td>0.0</td>\n",
       "      <td>0.0</td>\n",
       "      <td>0.0</td>\n",
       "      <td>0.0</td>\n",
       "      <td>0.0</td>\n",
       "      <td>0.0</td>\n",
       "      <td>0.0</td>\n",
       "      <td>0.0</td>\n",
       "      <td>0.0</td>\n",
       "      <td>0</td>\n",
       "      <td>?</td>\n",
       "      <td>?</td>\n",
       "      <td>0</td>\n",
       "      <td>0</td>\n",
       "      <td>0</td>\n",
       "      <td>0</td>\n",
       "      <td>0</td>\n",
       "      <td>0</td>\n",
       "      <td>0</td>\n",
       "      <td>0</td>\n",
       "    </tr>\n",
       "  </tbody>\n",
       "</table>\n",
       "</div>"
      ],
      "text/plain": [
       "     Age Number of sexual partners First sexual intercourse  \\\n",
       "677   46                       1.0                     13.0   \n",
       "173   29                       3.0                     15.0   \n",
       "457   15                       3.0                     14.0   \n",
       "472   35                       2.0                     17.0   \n",
       "12    45                       4.0                     14.0   \n",
       "\n",
       "    Num of pregnancies Smokes Smokes (years) Smokes (packs/year)  \\\n",
       "677                0.0    0.0            0.0                 0.0   \n",
       "173                3.0    0.0            0.0                 0.0   \n",
       "457                1.0    1.0    1.266972909        0.5132021277   \n",
       "472                3.0    0.0            0.0                 0.0   \n",
       "12                 6.0    0.0            0.0                 0.0   \n",
       "\n",
       "    Hormonal Contraceptives Hormonal Contraceptives (years)  IUD IUD (years)  \\\n",
       "677                     0.0                             0.0  0.0         0.0   \n",
       "173                     0.0                             0.0  0.0         0.0   \n",
       "457                       ?                               ?    ?           ?   \n",
       "472                     1.0                             1.0  0.0         0.0   \n",
       "12                      1.0                            10.0  1.0         5.0   \n",
       "\n",
       "    STDs STDs (number) STDs:condylomatosis STDs:cervical condylomatosis  \\\n",
       "677  0.0           0.0                 0.0                          0.0   \n",
       "173  1.0           1.0                 0.0                          0.0   \n",
       "457    ?             ?                   ?                            ?   \n",
       "472  0.0           0.0                 0.0                          0.0   \n",
       "12   0.0           0.0                 0.0                          0.0   \n",
       "\n",
       "    STDs:vaginal condylomatosis STDs:vulvo-perineal condylomatosis  \\\n",
       "677                         0.0                                0.0   \n",
       "173                         0.0                                0.0   \n",
       "457                           ?                                  ?   \n",
       "472                         0.0                                0.0   \n",
       "12                          0.0                                0.0   \n",
       "\n",
       "    STDs:syphilis STDs:pelvic inflammatory disease STDs:genital herpes  \\\n",
       "677           0.0                              0.0                 0.0   \n",
       "173           0.0                              0.0                 0.0   \n",
       "457             ?                                ?                   ?   \n",
       "472           0.0                              0.0                 0.0   \n",
       "12            0.0                              0.0                 0.0   \n",
       "\n",
       "    STDs:molluscum contagiosum STDs:AIDS STDs:HIV STDs:Hepatitis B STDs:HPV  \\\n",
       "677                        0.0       0.0      0.0              0.0      0.0   \n",
       "173                        0.0       0.0      1.0              0.0      0.0   \n",
       "457                          ?         ?        ?                ?        ?   \n",
       "472                        0.0       0.0      0.0              0.0      0.0   \n",
       "12                         0.0       0.0      0.0              0.0      0.0   \n",
       "\n",
       "     STDs: Number of diagnosis STDs: Time since first diagnosis  \\\n",
       "677                          0                                ?   \n",
       "173                          1                             16.0   \n",
       "457                          0                                ?   \n",
       "472                          0                                ?   \n",
       "12                           0                                ?   \n",
       "\n",
       "    STDs: Time since last diagnosis  Dx:Cancer  Dx:CIN  Dx:HPV  Dx  \\\n",
       "677                               ?          0       0       0   0   \n",
       "173                            16.0          0       0       0   0   \n",
       "457                               ?          0       0       0   0   \n",
       "472                               ?          0       0       0   0   \n",
       "12                                ?          0       0       0   0   \n",
       "\n",
       "     Hinselmann  Schiller  Citology  Biopsy  \n",
       "677           0         0         0       0  \n",
       "173           0         0         0       0  \n",
       "457           0         0         1       0  \n",
       "472           1         1         0       1  \n",
       "12            0         0         0       0  "
      ]
     },
     "execution_count": 13,
     "metadata": {},
     "output_type": "execute_result"
    }
   ],
   "source": [
    "data = pd.read_csv(\"data/kag_risk_factors_cervical_cancer.csv\")\n",
    "print(data.shape)\n",
    "data.sample(5)"
   ]
  },
  {
   "cell_type": "code",
   "execution_count": 8,
   "metadata": {},
   "outputs": [
    {
     "name": "stdout",
     "output_type": "stream",
     "text": [
      "0    803\n",
      "1     55\n",
      "Name: Biopsy, dtype: int64\n",
      "0    823\n",
      "1     35\n",
      "Name: Hinselmann, dtype: int64\n",
      "0    784\n",
      "1     74\n",
      "Name: Schiller, dtype: int64\n",
      "0    814\n",
      "1     44\n",
      "Name: Citology, dtype: int64\n"
     ]
    }
   ],
   "source": [
    "print(data['Biopsy'].value_counts())\n",
    "print(data['Hinselmann'].value_counts())\n",
    "print(data['Schiller'].value_counts())\n",
    "print(data['Citology'].value_counts())"
   ]
  },
  {
   "cell_type": "markdown",
   "metadata": {
    "heading_collapsed": true
   },
   "source": [
    "## Step 2: Data Visualisation and Feature Engineering"
   ]
  },
  {
   "cell_type": "markdown",
   "metadata": {
    "heading_collapsed": true,
    "hidden": true
   },
   "source": [
    "### 2.1. Check and Fix Dtypes: pd.to_numeric"
   ]
  },
  {
   "cell_type": "code",
   "execution_count": 10,
   "metadata": {
    "hidden": true
   },
   "outputs": [
    {
     "data": {
      "text/plain": [
       "Index(['Age', 'Number of sexual partners', 'First sexual intercourse',\n",
       "       'Num of pregnancies', 'Smokes', 'Smokes (years)', 'Smokes (packs/year)',\n",
       "       'Hormonal Contraceptives', 'Hormonal Contraceptives (years)', 'IUD',\n",
       "       'IUD (years)', 'STDs', 'STDs (number)', 'STDs:condylomatosis',\n",
       "       'STDs:cervical condylomatosis', 'STDs:vaginal condylomatosis',\n",
       "       'STDs:vulvo-perineal condylomatosis', 'STDs:syphilis',\n",
       "       'STDs:pelvic inflammatory disease', 'STDs:genital herpes',\n",
       "       'STDs:molluscum contagiosum', 'STDs:AIDS', 'STDs:HIV',\n",
       "       'STDs:Hepatitis B', 'STDs:HPV', 'STDs: Number of diagnosis',\n",
       "       'STDs: Time since first diagnosis', 'STDs: Time since last diagnosis',\n",
       "       'Dx:Cancer', 'Dx:CIN', 'Dx:HPV', 'Dx', 'Hinselmann', 'Schiller',\n",
       "       'Citology', 'Biopsy'],\n",
       "      dtype='object')"
      ]
     },
     "execution_count": 10,
     "metadata": {},
     "output_type": "execute_result"
    }
   ],
   "source": [
    "data.columns"
   ]
  },
  {
   "cell_type": "code",
   "execution_count": 14,
   "metadata": {
    "hidden": true
   },
   "outputs": [],
   "source": [
    "numerical = ['Age', \n",
    "             'Number of sexual partners', \n",
    "             'First sexual intercourse',\n",
    "                'Num of pregnancies', \n",
    "                'Smokes (years)',\n",
    "                'Smokes (packs/year)',\n",
    "                'Hormonal Contraceptives (years)',\n",
    "                'IUD (years)',\n",
    "                'STDs (number)',\n",
    "                'STDs: Number of diagnosis',\n",
    "            'STDs: Time since first diagnosis', \n",
    "             'STDs: Time since last diagnosis']\n",
    "\n",
    "categorical = ['STDs',\n",
    "               'Smokes',\n",
    "               'Hormonal Contraceptives',\n",
    "               'IUD',\n",
    "               'Dx',\n",
    "                  'STDs:condylomatosis',\n",
    "                  'STDs:cervical condylomatosis',\n",
    "                  'STDs:vaginal condylomatosis',\n",
    "                  'STDs:vulvo-perineal condylomatosis', \n",
    "                  'STDs:syphilis',\n",
    "                  'STDs:pelvic inflammatory disease', \n",
    "                  'STDs:genital herpes',\n",
    "                  'STDs:molluscum contagiosum', \n",
    "                  'STDs:AIDS', \n",
    "                  'STDs:HIV',\n",
    "                  'STDs:Hepatitis B', \n",
    "                  'STDs:HPV', \n",
    "                  'Dx:Cancer', \n",
    "                  'Dx:CIN', \n",
    "                  'Dx:HPV']\n",
    "\n",
    "target = ['Hinselmann', 'Schiller','Citology', 'Biopsy']"
   ]
  },
  {
   "cell_type": "code",
   "execution_count": 15,
   "metadata": {
    "hidden": true
   },
   "outputs": [],
   "source": [
    "# just to check the 3 lists were created properly\n",
    "assert len(numerical) + len(categorical) + len(target) == 36"
   ]
  },
  {
   "cell_type": "code",
   "execution_count": 16,
   "metadata": {
    "hidden": true
   },
   "outputs": [],
   "source": [
    "for col in numerical + categorical:\n",
    "    data[col]=pd.to_numeric(data[col],errors='coerce') "
   ]
  },
  {
   "cell_type": "code",
   "execution_count": 17,
   "metadata": {
    "hidden": true
   },
   "outputs": [
    {
     "data": {
      "text/plain": [
       "Age                                     int64\n",
       "Number of sexual partners             float64\n",
       "First sexual intercourse              float64\n",
       "Num of pregnancies                    float64\n",
       "Smokes                                float64\n",
       "Smokes (years)                        float64\n",
       "Smokes (packs/year)                   float64\n",
       "Hormonal Contraceptives               float64\n",
       "Hormonal Contraceptives (years)       float64\n",
       "IUD                                   float64\n",
       "IUD (years)                           float64\n",
       "STDs                                  float64\n",
       "STDs (number)                         float64\n",
       "STDs:condylomatosis                   float64\n",
       "STDs:cervical condylomatosis          float64\n",
       "STDs:vaginal condylomatosis           float64\n",
       "STDs:vulvo-perineal condylomatosis    float64\n",
       "STDs:syphilis                         float64\n",
       "STDs:pelvic inflammatory disease      float64\n",
       "STDs:genital herpes                   float64\n",
       "STDs:molluscum contagiosum            float64\n",
       "STDs:AIDS                             float64\n",
       "STDs:HIV                              float64\n",
       "STDs:Hepatitis B                      float64\n",
       "STDs:HPV                              float64\n",
       "STDs: Number of diagnosis               int64\n",
       "STDs: Time since first diagnosis      float64\n",
       "STDs: Time since last diagnosis       float64\n",
       "Dx:Cancer                               int64\n",
       "Dx:CIN                                  int64\n",
       "Dx:HPV                                  int64\n",
       "Dx                                      int64\n",
       "Hinselmann                              int64\n",
       "Schiller                                int64\n",
       "Citology                                int64\n",
       "Biopsy                                  int64\n",
       "dtype: object"
      ]
     },
     "execution_count": 17,
     "metadata": {},
     "output_type": "execute_result"
    }
   ],
   "source": [
    "data.dtypes"
   ]
  },
  {
   "cell_type": "code",
   "execution_count": 18,
   "metadata": {
    "hidden": true
   },
   "outputs": [
    {
     "data": {
      "text/html": [
       "<div>\n",
       "<style scoped>\n",
       "    .dataframe tbody tr th:only-of-type {\n",
       "        vertical-align: middle;\n",
       "    }\n",
       "\n",
       "    .dataframe tbody tr th {\n",
       "        vertical-align: top;\n",
       "    }\n",
       "\n",
       "    .dataframe thead th {\n",
       "        text-align: right;\n",
       "    }\n",
       "</style>\n",
       "<table border=\"1\" class=\"dataframe\">\n",
       "  <thead>\n",
       "    <tr style=\"text-align: right;\">\n",
       "      <th></th>\n",
       "      <th>Age</th>\n",
       "      <th>Number of sexual partners</th>\n",
       "      <th>First sexual intercourse</th>\n",
       "      <th>Num of pregnancies</th>\n",
       "      <th>Smokes</th>\n",
       "      <th>Smokes (years)</th>\n",
       "      <th>Smokes (packs/year)</th>\n",
       "      <th>Hormonal Contraceptives</th>\n",
       "      <th>Hormonal Contraceptives (years)</th>\n",
       "      <th>IUD</th>\n",
       "      <th>IUD (years)</th>\n",
       "      <th>STDs</th>\n",
       "      <th>STDs (number)</th>\n",
       "      <th>STDs:condylomatosis</th>\n",
       "      <th>STDs:cervical condylomatosis</th>\n",
       "      <th>STDs:vaginal condylomatosis</th>\n",
       "      <th>STDs:vulvo-perineal condylomatosis</th>\n",
       "      <th>STDs:syphilis</th>\n",
       "      <th>STDs:pelvic inflammatory disease</th>\n",
       "      <th>STDs:genital herpes</th>\n",
       "      <th>STDs:molluscum contagiosum</th>\n",
       "      <th>STDs:AIDS</th>\n",
       "      <th>STDs:HIV</th>\n",
       "      <th>STDs:Hepatitis B</th>\n",
       "      <th>STDs:HPV</th>\n",
       "      <th>STDs: Number of diagnosis</th>\n",
       "      <th>STDs: Time since first diagnosis</th>\n",
       "      <th>STDs: Time since last diagnosis</th>\n",
       "      <th>Dx:Cancer</th>\n",
       "      <th>Dx:CIN</th>\n",
       "      <th>Dx:HPV</th>\n",
       "      <th>Dx</th>\n",
       "      <th>Hinselmann</th>\n",
       "      <th>Schiller</th>\n",
       "      <th>Citology</th>\n",
       "      <th>Biopsy</th>\n",
       "    </tr>\n",
       "  </thead>\n",
       "  <tbody>\n",
       "    <tr>\n",
       "      <th>740</th>\n",
       "      <td>40</td>\n",
       "      <td>1.0</td>\n",
       "      <td>20.0</td>\n",
       "      <td>7.0</td>\n",
       "      <td>0.0</td>\n",
       "      <td>0.0</td>\n",
       "      <td>0.0</td>\n",
       "      <td>0.0</td>\n",
       "      <td>0.0</td>\n",
       "      <td>0.0</td>\n",
       "      <td>0.0</td>\n",
       "      <td>0.0</td>\n",
       "      <td>0.0</td>\n",
       "      <td>0.0</td>\n",
       "      <td>0.0</td>\n",
       "      <td>0.0</td>\n",
       "      <td>0.0</td>\n",
       "      <td>0.0</td>\n",
       "      <td>0.0</td>\n",
       "      <td>0.0</td>\n",
       "      <td>0.0</td>\n",
       "      <td>0.0</td>\n",
       "      <td>0.0</td>\n",
       "      <td>0.0</td>\n",
       "      <td>0.0</td>\n",
       "      <td>0</td>\n",
       "      <td>NaN</td>\n",
       "      <td>NaN</td>\n",
       "      <td>0</td>\n",
       "      <td>0</td>\n",
       "      <td>0</td>\n",
       "      <td>0</td>\n",
       "      <td>0</td>\n",
       "      <td>0</td>\n",
       "      <td>0</td>\n",
       "      <td>0</td>\n",
       "    </tr>\n",
       "    <tr>\n",
       "      <th>43</th>\n",
       "      <td>36</td>\n",
       "      <td>3.0</td>\n",
       "      <td>17.0</td>\n",
       "      <td>3.0</td>\n",
       "      <td>0.0</td>\n",
       "      <td>0.0</td>\n",
       "      <td>0.0</td>\n",
       "      <td>0.0</td>\n",
       "      <td>0.0</td>\n",
       "      <td>0.0</td>\n",
       "      <td>0.0</td>\n",
       "      <td>0.0</td>\n",
       "      <td>0.0</td>\n",
       "      <td>0.0</td>\n",
       "      <td>0.0</td>\n",
       "      <td>0.0</td>\n",
       "      <td>0.0</td>\n",
       "      <td>0.0</td>\n",
       "      <td>0.0</td>\n",
       "      <td>0.0</td>\n",
       "      <td>0.0</td>\n",
       "      <td>0.0</td>\n",
       "      <td>0.0</td>\n",
       "      <td>0.0</td>\n",
       "      <td>0.0</td>\n",
       "      <td>0</td>\n",
       "      <td>NaN</td>\n",
       "      <td>NaN</td>\n",
       "      <td>0</td>\n",
       "      <td>0</td>\n",
       "      <td>0</td>\n",
       "      <td>0</td>\n",
       "      <td>0</td>\n",
       "      <td>0</td>\n",
       "      <td>0</td>\n",
       "      <td>0</td>\n",
       "    </tr>\n",
       "    <tr>\n",
       "      <th>550</th>\n",
       "      <td>20</td>\n",
       "      <td>3.0</td>\n",
       "      <td>17.0</td>\n",
       "      <td>1.0</td>\n",
       "      <td>1.0</td>\n",
       "      <td>1.0</td>\n",
       "      <td>0.1</td>\n",
       "      <td>1.0</td>\n",
       "      <td>3.0</td>\n",
       "      <td>0.0</td>\n",
       "      <td>0.0</td>\n",
       "      <td>0.0</td>\n",
       "      <td>0.0</td>\n",
       "      <td>0.0</td>\n",
       "      <td>0.0</td>\n",
       "      <td>0.0</td>\n",
       "      <td>0.0</td>\n",
       "      <td>0.0</td>\n",
       "      <td>0.0</td>\n",
       "      <td>0.0</td>\n",
       "      <td>0.0</td>\n",
       "      <td>0.0</td>\n",
       "      <td>0.0</td>\n",
       "      <td>0.0</td>\n",
       "      <td>0.0</td>\n",
       "      <td>0</td>\n",
       "      <td>NaN</td>\n",
       "      <td>NaN</td>\n",
       "      <td>0</td>\n",
       "      <td>0</td>\n",
       "      <td>0</td>\n",
       "      <td>0</td>\n",
       "      <td>0</td>\n",
       "      <td>0</td>\n",
       "      <td>0</td>\n",
       "      <td>0</td>\n",
       "    </tr>\n",
       "  </tbody>\n",
       "</table>\n",
       "</div>"
      ],
      "text/plain": [
       "     Age  Number of sexual partners  First sexual intercourse  \\\n",
       "740   40                        1.0                      20.0   \n",
       "43    36                        3.0                      17.0   \n",
       "550   20                        3.0                      17.0   \n",
       "\n",
       "     Num of pregnancies  Smokes  Smokes (years)  Smokes (packs/year)  \\\n",
       "740                 7.0     0.0             0.0                  0.0   \n",
       "43                  3.0     0.0             0.0                  0.0   \n",
       "550                 1.0     1.0             1.0                  0.1   \n",
       "\n",
       "     Hormonal Contraceptives  Hormonal Contraceptives (years)  IUD  \\\n",
       "740                      0.0                              0.0  0.0   \n",
       "43                       0.0                              0.0  0.0   \n",
       "550                      1.0                              3.0  0.0   \n",
       "\n",
       "     IUD (years)  STDs  STDs (number)  STDs:condylomatosis  \\\n",
       "740          0.0   0.0            0.0                  0.0   \n",
       "43           0.0   0.0            0.0                  0.0   \n",
       "550          0.0   0.0            0.0                  0.0   \n",
       "\n",
       "     STDs:cervical condylomatosis  STDs:vaginal condylomatosis  \\\n",
       "740                           0.0                          0.0   \n",
       "43                            0.0                          0.0   \n",
       "550                           0.0                          0.0   \n",
       "\n",
       "     STDs:vulvo-perineal condylomatosis  STDs:syphilis  \\\n",
       "740                                 0.0            0.0   \n",
       "43                                  0.0            0.0   \n",
       "550                                 0.0            0.0   \n",
       "\n",
       "     STDs:pelvic inflammatory disease  STDs:genital herpes  \\\n",
       "740                               0.0                  0.0   \n",
       "43                                0.0                  0.0   \n",
       "550                               0.0                  0.0   \n",
       "\n",
       "     STDs:molluscum contagiosum  STDs:AIDS  STDs:HIV  STDs:Hepatitis B  \\\n",
       "740                         0.0        0.0       0.0               0.0   \n",
       "43                          0.0        0.0       0.0               0.0   \n",
       "550                         0.0        0.0       0.0               0.0   \n",
       "\n",
       "     STDs:HPV  STDs: Number of diagnosis  STDs: Time since first diagnosis  \\\n",
       "740       0.0                          0                               NaN   \n",
       "43        0.0                          0                               NaN   \n",
       "550       0.0                          0                               NaN   \n",
       "\n",
       "     STDs: Time since last diagnosis  Dx:Cancer  Dx:CIN  Dx:HPV  Dx  \\\n",
       "740                              NaN          0       0       0   0   \n",
       "43                               NaN          0       0       0   0   \n",
       "550                              NaN          0       0       0   0   \n",
       "\n",
       "     Hinselmann  Schiller  Citology  Biopsy  \n",
       "740           0         0         0       0  \n",
       "43            0         0         0       0  \n",
       "550           0         0         0       0  "
      ]
     },
     "execution_count": 18,
     "metadata": {},
     "output_type": "execute_result"
    }
   ],
   "source": [
    "data.sample(3)"
   ]
  },
  {
   "cell_type": "markdown",
   "metadata": {
    "heading_collapsed": true,
    "hidden": true
   },
   "source": [
    "### 2.2. Missing Values: Numerical-->SimpleImputer, Categorical-->df.dropna"
   ]
  },
  {
   "cell_type": "code",
   "execution_count": 20,
   "metadata": {
    "hidden": true
   },
   "outputs": [
    {
     "data": {
      "text/plain": [
       "Age                                    0.000000\n",
       "Number of sexual partners              3.030303\n",
       "First sexual intercourse               0.815851\n",
       "Num of pregnancies                     6.526807\n",
       "Smokes (years)                         1.515152\n",
       "Smokes (packs/year)                    1.515152\n",
       "Hormonal Contraceptives (years)       12.587413\n",
       "IUD (years)                           13.636364\n",
       "STDs (number)                         12.237762\n",
       "STDs: Number of diagnosis              0.000000\n",
       "STDs: Time since first diagnosis      91.724942\n",
       "STDs: Time since last diagnosis       91.724942\n",
       "STDs                                  12.237762\n",
       "Smokes                                 1.515152\n",
       "Hormonal Contraceptives               12.587413\n",
       "IUD                                   13.636364\n",
       "Dx                                     0.000000\n",
       "STDs:condylomatosis                   12.237762\n",
       "STDs:cervical condylomatosis          12.237762\n",
       "STDs:vaginal condylomatosis           12.237762\n",
       "STDs:vulvo-perineal condylomatosis    12.237762\n",
       "STDs:syphilis                         12.237762\n",
       "STDs:pelvic inflammatory disease      12.237762\n",
       "STDs:genital herpes                   12.237762\n",
       "STDs:molluscum contagiosum            12.237762\n",
       "STDs:AIDS                             12.237762\n",
       "STDs:HIV                              12.237762\n",
       "STDs:Hepatitis B                      12.237762\n",
       "STDs:HPV                              12.237762\n",
       "Dx:Cancer                              0.000000\n",
       "Dx:CIN                                 0.000000\n",
       "Dx:HPV                                 0.000000\n",
       "Hinselmann                             0.000000\n",
       "Schiller                               0.000000\n",
       "Citology                               0.000000\n",
       "Biopsy                                 0.000000\n",
       "dtype: float64"
      ]
     },
     "execution_count": 20,
     "metadata": {},
     "output_type": "execute_result"
    }
   ],
   "source": [
    "data[numerical + categorical + target].isnull().sum()/data.shape[0] *100"
   ]
  },
  {
   "cell_type": "code",
   "execution_count": 24,
   "metadata": {
    "hidden": true
   },
   "outputs": [
    {
     "data": {
      "text/plain": [
       "(12, None, 11)"
      ]
     },
     "execution_count": 24,
     "metadata": {},
     "output_type": "execute_result"
    }
   ],
   "source": [
    "len(numerical), numerical.remove(\"STDs: Time since first diagnosis\"), len(numerical)"
   ]
  },
  {
   "cell_type": "code",
   "execution_count": 27,
   "metadata": {
    "hidden": true
   },
   "outputs": [
    {
     "data": {
      "text/plain": [
       "(11, None, 10)"
      ]
     },
     "execution_count": 27,
     "metadata": {},
     "output_type": "execute_result"
    }
   ],
   "source": [
    "len(numerical), numerical.remove(\"STDs: Time since last diagnosis\"), len(numerical)"
   ]
  },
  {
   "cell_type": "code",
   "execution_count": 30,
   "metadata": {
    "hidden": true
   },
   "outputs": [
    {
     "data": {
      "text/plain": [
       "(858, 36)"
      ]
     },
     "execution_count": 30,
     "metadata": {},
     "output_type": "execute_result"
    }
   ],
   "source": [
    "len(numerical) + len(categorical) + len(target)\n",
    "data.shape  "
   ]
  },
  {
   "cell_type": "code",
   "execution_count": 28,
   "metadata": {
    "hidden": true
   },
   "outputs": [
    {
     "data": {
      "text/plain": [
       "Age                                     0\n",
       "Number of sexual partners              26\n",
       "First sexual intercourse                7\n",
       "Num of pregnancies                     56\n",
       "Smokes (years)                         13\n",
       "Smokes (packs/year)                    13\n",
       "Hormonal Contraceptives (years)       108\n",
       "IUD (years)                           117\n",
       "STDs (number)                         105\n",
       "STDs: Number of diagnosis               0\n",
       "STDs                                  105\n",
       "Smokes                                 13\n",
       "Hormonal Contraceptives               108\n",
       "IUD                                   117\n",
       "Dx                                      0\n",
       "STDs:condylomatosis                   105\n",
       "STDs:cervical condylomatosis          105\n",
       "STDs:vaginal condylomatosis           105\n",
       "STDs:vulvo-perineal condylomatosis    105\n",
       "STDs:syphilis                         105\n",
       "STDs:pelvic inflammatory disease      105\n",
       "STDs:genital herpes                   105\n",
       "STDs:molluscum contagiosum            105\n",
       "STDs:AIDS                             105\n",
       "STDs:HIV                              105\n",
       "STDs:Hepatitis B                      105\n",
       "STDs:HPV                              105\n",
       "Dx:Cancer                               0\n",
       "Dx:CIN                                  0\n",
       "Dx:HPV                                  0\n",
       "Hinselmann                              0\n",
       "Schiller                                0\n",
       "Citology                                0\n",
       "Biopsy                                  0\n",
       "dtype: int64"
      ]
     },
     "execution_count": 28,
     "metadata": {},
     "output_type": "execute_result"
    }
   ],
   "source": [
    "# Check number of missing values for each of the remaining features. \n",
    "data[numerical + categorical + target].isnull().sum()"
   ]
  },
  {
   "cell_type": "code",
   "execution_count": 31,
   "metadata": {
    "hidden": true
   },
   "outputs": [],
   "source": [
    "from sklearn.impute import SimpleImputer\n",
    "imputer = SimpleImputer(missing_values=np.nan, strategy='median')"
   ]
  },
  {
   "cell_type": "code",
   "execution_count": 32,
   "metadata": {
    "hidden": true
   },
   "outputs": [],
   "source": [
    "data[numerical] = pd.DataFrame(imputer.fit_transform(data[numerical]))"
   ]
  },
  {
   "cell_type": "code",
   "execution_count": 33,
   "metadata": {
    "hidden": true
   },
   "outputs": [
    {
     "data": {
      "text/plain": [
       "Age                                     0\n",
       "Number of sexual partners               0\n",
       "First sexual intercourse                0\n",
       "Num of pregnancies                      0\n",
       "Smokes (years)                          0\n",
       "Smokes (packs/year)                     0\n",
       "Hormonal Contraceptives (years)         0\n",
       "IUD (years)                             0\n",
       "STDs (number)                           0\n",
       "STDs: Number of diagnosis               0\n",
       "STDs                                  105\n",
       "Smokes                                 13\n",
       "Hormonal Contraceptives               108\n",
       "IUD                                   117\n",
       "Dx                                      0\n",
       "STDs:condylomatosis                   105\n",
       "STDs:cervical condylomatosis          105\n",
       "STDs:vaginal condylomatosis           105\n",
       "STDs:vulvo-perineal condylomatosis    105\n",
       "STDs:syphilis                         105\n",
       "STDs:pelvic inflammatory disease      105\n",
       "STDs:genital herpes                   105\n",
       "STDs:molluscum contagiosum            105\n",
       "STDs:AIDS                             105\n",
       "STDs:HIV                              105\n",
       "STDs:Hepatitis B                      105\n",
       "STDs:HPV                              105\n",
       "Dx:Cancer                               0\n",
       "Dx:CIN                                  0\n",
       "Dx:HPV                                  0\n",
       "Hinselmann                              0\n",
       "Schiller                                0\n",
       "Citology                                0\n",
       "Biopsy                                  0\n",
       "dtype: int64"
      ]
     },
     "execution_count": 33,
     "metadata": {},
     "output_type": "execute_result"
    }
   ],
   "source": [
    "data[numerical + categorical + target].isnull().sum()"
   ]
  },
  {
   "cell_type": "code",
   "execution_count": 34,
   "metadata": {
    "hidden": true
   },
   "outputs": [
    {
     "data": {
      "text/plain": [
       "(858, 36)"
      ]
     },
     "execution_count": 34,
     "metadata": {},
     "output_type": "execute_result"
    }
   ],
   "source": [
    "data.shape"
   ]
  },
  {
   "cell_type": "code",
   "execution_count": 35,
   "metadata": {
    "hidden": true
   },
   "outputs": [],
   "source": [
    "data.dropna(axis=0,subset=categorical,inplace=True) #axis=0 denotes row wise"
   ]
  },
  {
   "cell_type": "code",
   "execution_count": 36,
   "metadata": {
    "hidden": true
   },
   "outputs": [
    {
     "data": {
      "text/plain": [
       "(726, 36)"
      ]
     },
     "execution_count": 36,
     "metadata": {},
     "output_type": "execute_result"
    }
   ],
   "source": [
    "data.shape"
   ]
  },
  {
   "cell_type": "code",
   "execution_count": 37,
   "metadata": {
    "hidden": true
   },
   "outputs": [
    {
     "data": {
      "text/plain": [
       "Age                                   0\n",
       "Number of sexual partners             0\n",
       "First sexual intercourse              0\n",
       "Num of pregnancies                    0\n",
       "Smokes (years)                        0\n",
       "Smokes (packs/year)                   0\n",
       "Hormonal Contraceptives (years)       0\n",
       "IUD (years)                           0\n",
       "STDs (number)                         0\n",
       "STDs: Number of diagnosis             0\n",
       "STDs                                  0\n",
       "Smokes                                0\n",
       "Hormonal Contraceptives               0\n",
       "IUD                                   0\n",
       "Dx                                    0\n",
       "STDs:condylomatosis                   0\n",
       "STDs:cervical condylomatosis          0\n",
       "STDs:vaginal condylomatosis           0\n",
       "STDs:vulvo-perineal condylomatosis    0\n",
       "STDs:syphilis                         0\n",
       "STDs:pelvic inflammatory disease      0\n",
       "STDs:genital herpes                   0\n",
       "STDs:molluscum contagiosum            0\n",
       "STDs:AIDS                             0\n",
       "STDs:HIV                              0\n",
       "STDs:Hepatitis B                      0\n",
       "STDs:HPV                              0\n",
       "Dx:Cancer                             0\n",
       "Dx:CIN                                0\n",
       "Dx:HPV                                0\n",
       "Hinselmann                            0\n",
       "Schiller                              0\n",
       "Citology                              0\n",
       "Biopsy                                0\n",
       "dtype: int64"
      ]
     },
     "execution_count": 37,
     "metadata": {},
     "output_type": "execute_result"
    }
   ],
   "source": [
    "data[numerical + categorical + target].isnull().sum()"
   ]
  },
  {
   "cell_type": "markdown",
   "metadata": {
    "heading_collapsed": true,
    "hidden": true
   },
   "source": [
    "### 2.3. Numerical Feature Analysis:  Correlation"
   ]
  },
  {
   "cell_type": "code",
   "execution_count": 58,
   "metadata": {
    "hidden": true
   },
   "outputs": [],
   "source": [
    "df_num = data[numerical].copy()"
   ]
  },
  {
   "cell_type": "code",
   "execution_count": 59,
   "metadata": {
    "hidden": true
   },
   "outputs": [
    {
     "data": {
      "image/png": "[encoded data removed]",
      "text/plain": [
       "<Figure size 720x576 with 2 Axes>"
      ]
     },
     "metadata": {
      "needs_background": "light"
     },
     "output_type": "display_data"
    }
   ],
   "source": [
    "ax, fig = plt.subplots(figsize=(10,8))\n",
    "sns.heatmap(df_num.corr(), annot=True, cmap='coolwarm')\n",
    "plt.show()"
   ]
  },
  {
   "cell_type": "markdown",
   "metadata": {
    "hidden": true
   },
   "source": [
    "Drop `STDs (number)`"
   ]
  },
  {
   "cell_type": "code",
   "execution_count": 60,
   "metadata": {
    "hidden": true
   },
   "outputs": [
    {
     "data": {
      "text/plain": [
       "(10, None, 9)"
      ]
     },
     "execution_count": 60,
     "metadata": {},
     "output_type": "execute_result"
    }
   ],
   "source": [
    "len(numerical), numerical.remove(\"STDs (number)\"), len(numerical)"
   ]
  },
  {
   "cell_type": "markdown",
   "metadata": {
    "heading_collapsed": true,
    "hidden": true
   },
   "source": [
    "### 2.4. Numerical Feature Analysis:  Outliers"
   ]
  },
  {
   "cell_type": "code",
   "execution_count": 61,
   "metadata": {
    "hidden": true
   },
   "outputs": [
    {
     "name": "stdout",
     "output_type": "stream",
     "text": [
      "Column Age outliers = 1.10%\n",
      "Column Number of sexual partners outliers = 8.13%\n",
      "Column First sexual intercourse outliers = 5.23%\n",
      "Column Num of pregnancies outliers = 3.44%\n",
      "Column Smokes (years) outliers = 100.00%\n",
      "Column Smokes (packs/year) outliers = 100.00%\n",
      "Column Hormonal Contraceptives (years) outliers = 9.09%\n",
      "Column IUD (years) outliers = 100.00%\n",
      "Column STDs: Number of diagnosis outliers = 100.00%\n"
     ]
    }
   ],
   "source": [
    "for k, v in data[numerical].items(): #k=column_name, v=values\n",
    "    q1 = v.quantile(0.25)\n",
    "    q3 = v.quantile(0.75)\n",
    "    irq = q3 - q1\n",
    "    v_col = v[(v <= q1 - 1.5 * irq) | (v >= q3 + 1.5 * irq)]\n",
    "    perc = np.shape(v_col)[0] * 100.0 / np.shape(data[numerical])[0]\n",
    "    print(\"Column %s outliers = %.2f%%\" % (k, perc))"
   ]
  },
  {
   "cell_type": "markdown",
   "metadata": {
    "heading_collapsed": true,
    "hidden": true
   },
   "source": [
    "### 2.5. Numerical Feature Analysis: Distplot"
   ]
  },
  {
   "cell_type": "code",
   "execution_count": 62,
   "metadata": {
    "hidden": true
   },
   "outputs": [
    {
     "data": {
      "image/png": "[encoded data removed]",
      "text/plain": [
       "<Figure size 1440x720 with 9 Axes>"
      ]
     },
     "metadata": {
      "needs_background": "light"
     },
     "output_type": "display_data"
    }
   ],
   "source": [
    "fig, axs = plt.subplots(ncols=3, nrows=3, figsize=(20, 10))\n",
    "index = 0\n",
    "axs = axs.flatten()\n",
    "for k,v in data[numerical].items():\n",
    "    sns.distplot(v, ax=axs[index])\n",
    "    index += 1\n",
    "plt.tight_layout(pad=0.4, w_pad=0.5, h_pad=5.0)"
   ]
  },
  {
   "cell_type": "markdown",
   "metadata": {
    "heading_collapsed": true,
    "hidden": true
   },
   "source": [
    "### 2.6. Categorical Feature Analysis: Catplot"
   ]
  },
  {
   "cell_type": "code",
   "execution_count": 63,
   "metadata": {
    "hidden": true
   },
   "outputs": [
    {
     "data": {
      "image/png": "[encoded data removed]",
      "text/plain": [
       "<Figure size 360x360 with 1 Axes>"
      ]
     },
     "metadata": {
      "needs_background": "light"
     },
     "output_type": "display_data"
    },
    {
     "data": {
      "image/png": "[encoded data removed]",
      "text/plain": [
       "<Figure size 360x360 with 1 Axes>"
      ]
     },
     "metadata": {
      "needs_background": "light"
     },
     "output_type": "display_data"
    },
    {
     "data": {
      "image/png": "[encoded data removed]",
      "text/plain": [
       "<Figure size 360x360 with 1 Axes>"
      ]
     },
     "metadata": {
      "needs_background": "light"
     },
     "output_type": "display_data"
    },
    {
     "data": {
      "image/png": "[encoded data removed]",
      "text/plain": [
       "<Figure size 360x360 with 1 Axes>"
      ]
     },
     "metadata": {
      "needs_background": "light"
     },
     "output_type": "display_data"
    },
    {
     "data": {
      "image/png": "[encoded data removed]",
      "text/plain": [
       "<Figure size 360x360 with 1 Axes>"
      ]
     },
     "metadata": {
      "needs_background": "light"
     },
     "output_type": "display_data"
    },
    {
     "data": {
      "image/png": "[encoded data removed]",
      "text/plain": [
       "<Figure size 360x360 with 1 Axes>"
      ]
     },
     "metadata": {
      "needs_background": "light"
     },
     "output_type": "display_data"
    },
    {
     "data": {
      "image/png": "[encoded data removed]",
      "text/plain": [
       "<Figure size 360x360 with 1 Axes>"
      ]
     },
     "metadata": {
      "needs_background": "light"
     },
     "output_type": "display_data"
    },
    {
     "data": {
      "image/png": "[encoded data removed]",
      "text/plain": [
       "<Figure size 360x360 with 1 Axes>"
      ]
     },
     "metadata": {
      "needs_background": "light"
     },
     "output_type": "display_data"
    },
    {
     "data": {
      "image/png": "[encoded data removed]",
      "text/plain": [
       "<Figure size 360x360 with 1 Axes>"
      ]
     },
     "metadata": {
      "needs_background": "light"
     },
     "output_type": "display_data"
    },
    {
     "data": {
      "image/png": "[encoded data removed]",
      "text/plain": [
       "<Figure size 360x360 with 1 Axes>"
      ]
     },
     "metadata": {
      "needs_background": "light"
     },
     "output_type": "display_data"
    },
    {
     "data": {
      "image/png": "[encoded data removed]",
      "text/plain": [
       "<Figure size 360x360 with 1 Axes>"
      ]
     },
     "metadata": {
      "needs_background": "light"
     },
     "output_type": "display_data"
    },
    {
     "data": {
      "image/png": "[encoded data removed]",
      "text/plain": [
       "<Figure size 360x360 with 1 Axes>"
      ]
     },
     "metadata": {
      "needs_background": "light"
     },
     "output_type": "display_data"
    },
    {
     "data": {
      "image/png": "[encoded data removed]",
      "text/plain": [
       "<Figure size 360x360 with 1 Axes>"
      ]
     },
     "metadata": {
      "needs_background": "light"
     },
     "output_type": "display_data"
    },
    {
     "data": {
      "image/png": "[encoded data removed]",
      "text/plain": [
       "<Figure size 360x360 with 1 Axes>"
      ]
     },
     "metadata": {
      "needs_background": "light"
     },
     "output_type": "display_data"
    },
    {
     "data": {
      "image/png": "[encoded data removed]",
      "text/plain": [
       "<Figure size 360x360 with 1 Axes>"
      ]
     },
     "metadata": {
      "needs_background": "light"
     },
     "output_type": "display_data"
    },
    {
     "data": {
      "image/png": "[encoded data removed]",
      "text/plain": [
       "<Figure size 360x360 with 1 Axes>"
      ]
     },
     "metadata": {
      "needs_background": "light"
     },
     "output_type": "display_data"
    },
    {
     "data": {
      "image/png": "[encoded data removed]",
      "text/plain": [
       "<Figure size 360x360 with 1 Axes>"
      ]
     },
     "metadata": {
      "needs_background": "light"
     },
     "output_type": "display_data"
    },
    {
     "data": {
      "image/png": "[encoded data removed]",
      "text/plain": [
       "<Figure size 360x360 with 1 Axes>"
      ]
     },
     "metadata": {
      "needs_background": "light"
     },
     "output_type": "display_data"
    },
    {
     "data": {
      "image/png": "[encoded data removed]",
      "text/plain": [
       "<Figure size 360x360 with 1 Axes>"
      ]
     },
     "metadata": {
      "needs_background": "light"
     },
     "output_type": "display_data"
    },
    {
     "data": {
      "image/png": "[encoded data removed]",
      "text/plain": [
       "<Figure size 360x360 with 1 Axes>"
      ]
     },
     "metadata": {
      "needs_background": "light"
     },
     "output_type": "display_data"
    }
   ],
   "source": [
    "for feature in categorical:\n",
    "    sns.catplot(feature,data=data,kind='count')"
   ]
  },
  {
   "cell_type": "markdown",
   "metadata": {
    "hidden": true
   },
   "source": [
    "Observations:\n",
    "- `STDs:AIDS` and `STDs:cervical condylomatosis` has only 0 values. We can possibly drop this column\n",
    "- `Hormonal Contraceptive` column has the highest number of one's which indicate that this might be the important key feature in detecting the cervical cancer. So let us concentrate on this feature more in future analysis."
   ]
  },
  {
   "cell_type": "code",
   "execution_count": 64,
   "metadata": {
    "hidden": true
   },
   "outputs": [
    {
     "data": {
      "text/plain": [
       "(20, None, 19)"
      ]
     },
     "execution_count": 64,
     "metadata": {},
     "output_type": "execute_result"
    }
   ],
   "source": [
    "len(categorical), categorical.remove(\"STDs:AIDS\"), len(categorical)"
   ]
  },
  {
   "cell_type": "code",
   "execution_count": 65,
   "metadata": {
    "hidden": true
   },
   "outputs": [
    {
     "data": {
      "text/plain": [
       "(19, None, 18)"
      ]
     },
     "execution_count": 65,
     "metadata": {},
     "output_type": "execute_result"
    }
   ],
   "source": [
    "len(categorical), categorical.remove(\"STDs:cervical condylomatosis\"), len(categorical)"
   ]
  },
  {
   "cell_type": "markdown",
   "metadata": {
    "hidden": true
   },
   "source": [
    "From the three columns/features `Smokes`, `Smokes (years)`, `Smokes (packs/year)` we can remove the column `Smokes` because `Smokes (years)` will represent the `Smokes` column as `Smoke (years)` column has non-zero value only when `Smokes` column has non-zero value. Also, the predictions depends on the number of years the person is smoking rather than just whether the smokes or not."
   ]
  },
  {
   "cell_type": "code",
   "execution_count": 66,
   "metadata": {
    "hidden": true
   },
   "outputs": [
    {
     "data": {
      "text/plain": [
       "(18, None, 17)"
      ]
     },
     "execution_count": 66,
     "metadata": {},
     "output_type": "execute_result"
    }
   ],
   "source": [
    "#drop the smokes features\n",
    "len(categorical), categorical.remove(\"Smokes\"), len(categorical)"
   ]
  },
  {
   "cell_type": "code",
   "execution_count": 67,
   "metadata": {
    "hidden": true
   },
   "outputs": [
    {
     "data": {
      "text/plain": [
       "(17, None, 16)"
      ]
     },
     "execution_count": 67,
     "metadata": {},
     "output_type": "execute_result"
    }
   ],
   "source": [
    "#### Similar study as Smokes can be conducted for other features like Harmonal Contraceptives etc.\n",
    "len(categorical), categorical.remove(\"Hormonal Contraceptives\"), len(categorical)"
   ]
  },
  {
   "cell_type": "code",
   "execution_count": 68,
   "metadata": {
    "hidden": true
   },
   "outputs": [
    {
     "data": {
      "text/plain": [
       "(16, None, 15)"
      ]
     },
     "execution_count": 68,
     "metadata": {},
     "output_type": "execute_result"
    }
   ],
   "source": [
    "### Dropping IUD column because IUD (years) has a non-zero value only if IUD is non-zero.\n",
    "len(categorical), categorical.remove(\"IUD\"), len(categorical)"
   ]
  },
  {
   "cell_type": "code",
   "execution_count": 69,
   "metadata": {
    "hidden": true
   },
   "outputs": [
    {
     "data": {
      "text/plain": [
       "(15, None, 14)"
      ]
     },
     "execution_count": 69,
     "metadata": {},
     "output_type": "execute_result"
    }
   ],
   "source": [
    "## same logic for Dx\n",
    "len(categorical), categorical.remove(\"Dx\"), len(categorical)"
   ]
  },
  {
   "cell_type": "markdown",
   "metadata": {
    "heading_collapsed": true
   },
   "source": [
    "## Step 3: Defining Training and Test Set"
   ]
  },
  {
   "cell_type": "markdown",
   "metadata": {
    "hidden": true
   },
   "source": [
    "There are 4 target variables in the dataset. \n",
    "\n",
    "For building the model, Let us consider a new variable cervical_cancer which is the sum of the 4 target variables. \n",
    "\n",
    "That is, `Cervical_cancer = Hinselmann + Schiller + Citology + Biopsy` \n",
    "\n",
    "This gives five different values ranging from 0 to 4. These values represent the level of risk i.e. 0 represent no risk and 4 represents higher level of risk. So, the final class/target variables are 0, 1, 2, 3, 4."
   ]
  },
  {
   "cell_type": "code",
   "execution_count": 105,
   "metadata": {
    "hidden": true
   },
   "outputs": [],
   "source": [
    "data['cervical_cancer'] = data[['Hinselmann', 'Schiller','Citology','Biopsy']].apply(np.sum, axis=1)"
   ]
  },
  {
   "cell_type": "code",
   "execution_count": 106,
   "metadata": {
    "hidden": true
   },
   "outputs": [],
   "source": [
    "data['cervical_cancer'] = data['cervical_cancer'].astype(int)"
   ]
  },
  {
   "cell_type": "code",
   "execution_count": 107,
   "metadata": {
    "hidden": true
   },
   "outputs": [
    {
     "data": {
      "text/html": [
       "<div>\n",
       "<style scoped>\n",
       "    .dataframe tbody tr th:only-of-type {\n",
       "        vertical-align: middle;\n",
       "    }\n",
       "\n",
       "    .dataframe tbody tr th {\n",
       "        vertical-align: top;\n",
       "    }\n",
       "\n",
       "    .dataframe thead th {\n",
       "        text-align: right;\n",
       "    }\n",
       "</style>\n",
       "<table border=\"1\" class=\"dataframe\">\n",
       "  <thead>\n",
       "    <tr style=\"text-align: right;\">\n",
       "      <th></th>\n",
       "      <th>Age</th>\n",
       "      <th>Number of sexual partners</th>\n",
       "      <th>First sexual intercourse</th>\n",
       "      <th>Num of pregnancies</th>\n",
       "      <th>Smokes</th>\n",
       "      <th>Smokes (years)</th>\n",
       "      <th>Smokes (packs/year)</th>\n",
       "      <th>Hormonal Contraceptives</th>\n",
       "      <th>Hormonal Contraceptives (years)</th>\n",
       "      <th>IUD</th>\n",
       "      <th>IUD (years)</th>\n",
       "      <th>STDs</th>\n",
       "      <th>STDs (number)</th>\n",
       "      <th>STDs:condylomatosis</th>\n",
       "      <th>STDs:cervical condylomatosis</th>\n",
       "      <th>STDs:vaginal condylomatosis</th>\n",
       "      <th>STDs:vulvo-perineal condylomatosis</th>\n",
       "      <th>STDs:syphilis</th>\n",
       "      <th>STDs:pelvic inflammatory disease</th>\n",
       "      <th>STDs:genital herpes</th>\n",
       "      <th>STDs:molluscum contagiosum</th>\n",
       "      <th>STDs:AIDS</th>\n",
       "      <th>STDs:HIV</th>\n",
       "      <th>STDs:Hepatitis B</th>\n",
       "      <th>STDs:HPV</th>\n",
       "      <th>STDs: Number of diagnosis</th>\n",
       "      <th>STDs: Time since first diagnosis</th>\n",
       "      <th>STDs: Time since last diagnosis</th>\n",
       "      <th>Dx:Cancer</th>\n",
       "      <th>Dx:CIN</th>\n",
       "      <th>Dx:HPV</th>\n",
       "      <th>Dx</th>\n",
       "      <th>Hinselmann</th>\n",
       "      <th>Schiller</th>\n",
       "      <th>Citology</th>\n",
       "      <th>Biopsy</th>\n",
       "      <th>cervical_cancer</th>\n",
       "    </tr>\n",
       "  </thead>\n",
       "  <tbody>\n",
       "    <tr>\n",
       "      <th>211</th>\n",
       "      <td>27.0</td>\n",
       "      <td>1.0</td>\n",
       "      <td>26.0</td>\n",
       "      <td>1.0</td>\n",
       "      <td>0.0</td>\n",
       "      <td>0.0</td>\n",
       "      <td>0.0</td>\n",
       "      <td>0.0</td>\n",
       "      <td>0.0</td>\n",
       "      <td>0.0</td>\n",
       "      <td>0.0</td>\n",
       "      <td>0.0</td>\n",
       "      <td>0.0</td>\n",
       "      <td>0.0</td>\n",
       "      <td>0.0</td>\n",
       "      <td>0.0</td>\n",
       "      <td>0.0</td>\n",
       "      <td>0.0</td>\n",
       "      <td>0.0</td>\n",
       "      <td>0.0</td>\n",
       "      <td>0.0</td>\n",
       "      <td>0.0</td>\n",
       "      <td>0.0</td>\n",
       "      <td>0.0</td>\n",
       "      <td>0.0</td>\n",
       "      <td>0.0</td>\n",
       "      <td>NaN</td>\n",
       "      <td>NaN</td>\n",
       "      <td>0</td>\n",
       "      <td>0</td>\n",
       "      <td>0</td>\n",
       "      <td>0</td>\n",
       "      <td>0</td>\n",
       "      <td>0</td>\n",
       "      <td>0</td>\n",
       "      <td>0</td>\n",
       "      <td>0</td>\n",
       "    </tr>\n",
       "    <tr>\n",
       "      <th>475</th>\n",
       "      <td>19.0</td>\n",
       "      <td>4.0</td>\n",
       "      <td>15.0</td>\n",
       "      <td>2.0</td>\n",
       "      <td>0.0</td>\n",
       "      <td>0.0</td>\n",
       "      <td>0.0</td>\n",
       "      <td>1.0</td>\n",
       "      <td>3.0</td>\n",
       "      <td>0.0</td>\n",
       "      <td>0.0</td>\n",
       "      <td>0.0</td>\n",
       "      <td>0.0</td>\n",
       "      <td>0.0</td>\n",
       "      <td>0.0</td>\n",
       "      <td>0.0</td>\n",
       "      <td>0.0</td>\n",
       "      <td>0.0</td>\n",
       "      <td>0.0</td>\n",
       "      <td>0.0</td>\n",
       "      <td>0.0</td>\n",
       "      <td>0.0</td>\n",
       "      <td>0.0</td>\n",
       "      <td>0.0</td>\n",
       "      <td>0.0</td>\n",
       "      <td>0.0</td>\n",
       "      <td>NaN</td>\n",
       "      <td>NaN</td>\n",
       "      <td>0</td>\n",
       "      <td>0</td>\n",
       "      <td>0</td>\n",
       "      <td>0</td>\n",
       "      <td>0</td>\n",
       "      <td>0</td>\n",
       "      <td>0</td>\n",
       "      <td>0</td>\n",
       "      <td>0</td>\n",
       "    </tr>\n",
       "    <tr>\n",
       "      <th>456</th>\n",
       "      <td>16.0</td>\n",
       "      <td>1.0</td>\n",
       "      <td>14.0</td>\n",
       "      <td>1.0</td>\n",
       "      <td>0.0</td>\n",
       "      <td>0.0</td>\n",
       "      <td>0.0</td>\n",
       "      <td>0.0</td>\n",
       "      <td>0.0</td>\n",
       "      <td>0.0</td>\n",
       "      <td>0.0</td>\n",
       "      <td>0.0</td>\n",
       "      <td>0.0</td>\n",
       "      <td>0.0</td>\n",
       "      <td>0.0</td>\n",
       "      <td>0.0</td>\n",
       "      <td>0.0</td>\n",
       "      <td>0.0</td>\n",
       "      <td>0.0</td>\n",
       "      <td>0.0</td>\n",
       "      <td>0.0</td>\n",
       "      <td>0.0</td>\n",
       "      <td>0.0</td>\n",
       "      <td>0.0</td>\n",
       "      <td>0.0</td>\n",
       "      <td>0.0</td>\n",
       "      <td>NaN</td>\n",
       "      <td>NaN</td>\n",
       "      <td>0</td>\n",
       "      <td>0</td>\n",
       "      <td>0</td>\n",
       "      <td>0</td>\n",
       "      <td>0</td>\n",
       "      <td>0</td>\n",
       "      <td>0</td>\n",
       "      <td>0</td>\n",
       "      <td>0</td>\n",
       "    </tr>\n",
       "  </tbody>\n",
       "</table>\n",
       "</div>"
      ],
      "text/plain": [
       "      Age  Number of sexual partners  First sexual intercourse  \\\n",
       "211  27.0                        1.0                      26.0   \n",
       "475  19.0                        4.0                      15.0   \n",
       "456  16.0                        1.0                      14.0   \n",
       "\n",
       "     Num of pregnancies  Smokes  Smokes (years)  Smokes (packs/year)  \\\n",
       "211                 1.0     0.0             0.0                  0.0   \n",
       "475                 2.0     0.0             0.0                  0.0   \n",
       "456                 1.0     0.0             0.0                  0.0   \n",
       "\n",
       "     Hormonal Contraceptives  Hormonal Contraceptives (years)  IUD  \\\n",
       "211                      0.0                              0.0  0.0   \n",
       "475                      1.0                              3.0  0.0   \n",
       "456                      0.0                              0.0  0.0   \n",
       "\n",
       "     IUD (years)  STDs  STDs (number)  STDs:condylomatosis  \\\n",
       "211          0.0   0.0            0.0                  0.0   \n",
       "475          0.0   0.0            0.0                  0.0   \n",
       "456          0.0   0.0            0.0                  0.0   \n",
       "\n",
       "     STDs:cervical condylomatosis  STDs:vaginal condylomatosis  \\\n",
       "211                           0.0                          0.0   \n",
       "475                           0.0                          0.0   \n",
       "456                           0.0                          0.0   \n",
       "\n",
       "     STDs:vulvo-perineal condylomatosis  STDs:syphilis  \\\n",
       "211                                 0.0            0.0   \n",
       "475                                 0.0            0.0   \n",
       "456                                 0.0            0.0   \n",
       "\n",
       "     STDs:pelvic inflammatory disease  STDs:genital herpes  \\\n",
       "211                               0.0                  0.0   \n",
       "475                               0.0                  0.0   \n",
       "456                               0.0                  0.0   \n",
       "\n",
       "     STDs:molluscum contagiosum  STDs:AIDS  STDs:HIV  STDs:Hepatitis B  \\\n",
       "211                         0.0        0.0       0.0               0.0   \n",
       "475                         0.0        0.0       0.0               0.0   \n",
       "456                         0.0        0.0       0.0               0.0   \n",
       "\n",
       "     STDs:HPV  STDs: Number of diagnosis  STDs: Time since first diagnosis  \\\n",
       "211       0.0                        0.0                               NaN   \n",
       "475       0.0                        0.0                               NaN   \n",
       "456       0.0                        0.0                               NaN   \n",
       "\n",
       "     STDs: Time since last diagnosis  Dx:Cancer  Dx:CIN  Dx:HPV  Dx  \\\n",
       "211                              NaN          0       0       0   0   \n",
       "475                              NaN          0       0       0   0   \n",
       "456                              NaN          0       0       0   0   \n",
       "\n",
       "     Hinselmann  Schiller  Citology  Biopsy  cervical_cancer  \n",
       "211           0         0         0       0                0  \n",
       "475           0         0         0       0                0  \n",
       "456           0         0         0       0                0  "
      ]
     },
     "execution_count": 107,
     "metadata": {},
     "output_type": "execute_result"
    }
   ],
   "source": [
    "data.sample(3)"
   ]
  },
  {
   "cell_type": "code",
   "execution_count": 108,
   "metadata": {
    "hidden": true
   },
   "outputs": [
    {
     "data": {
      "text/plain": [
       "array([0, 3, 1, 2, 4])"
      ]
     },
     "execution_count": 108,
     "metadata": {},
     "output_type": "execute_result"
    }
   ],
   "source": [
    "data['cervical_cancer'].unique()"
   ]
  },
  {
   "cell_type": "code",
   "execution_count": 110,
   "metadata": {
    "hidden": true
   },
   "outputs": [
    {
     "data": {
      "text/plain": [
       "0    87.190083\n",
       "1     4.958678\n",
       "3     4.407713\n",
       "2     2.754821\n",
       "4     0.688705\n",
       "Name: cervical_cancer, dtype: float64"
      ]
     },
     "execution_count": 110,
     "metadata": {},
     "output_type": "execute_result"
    }
   ],
   "source": [
    "data[\"cervical_cancer\"].value_counts()/data.shape[0] *100"
   ]
  },
  {
   "cell_type": "code",
   "execution_count": 119,
   "metadata": {
    "hidden": true
   },
   "outputs": [
    {
     "name": "stdout",
     "output_type": "stream",
     "text": [
      "(726, 24)\n"
     ]
    },
    {
     "data": {
      "text/html": [
       "<div>\n",
       "<style scoped>\n",
       "    .dataframe tbody tr th:only-of-type {\n",
       "        vertical-align: middle;\n",
       "    }\n",
       "\n",
       "    .dataframe tbody tr th {\n",
       "        vertical-align: top;\n",
       "    }\n",
       "\n",
       "    .dataframe thead th {\n",
       "        text-align: right;\n",
       "    }\n",
       "</style>\n",
       "<table border=\"1\" class=\"dataframe\">\n",
       "  <thead>\n",
       "    <tr style=\"text-align: right;\">\n",
       "      <th></th>\n",
       "      <th>Age</th>\n",
       "      <th>Number of sexual partners</th>\n",
       "      <th>First sexual intercourse</th>\n",
       "      <th>Num of pregnancies</th>\n",
       "      <th>Smokes (years)</th>\n",
       "      <th>Smokes (packs/year)</th>\n",
       "      <th>Hormonal Contraceptives (years)</th>\n",
       "      <th>IUD (years)</th>\n",
       "      <th>STDs: Number of diagnosis</th>\n",
       "      <th>STDs</th>\n",
       "      <th>STDs:condylomatosis</th>\n",
       "      <th>STDs:vaginal condylomatosis</th>\n",
       "      <th>STDs:vulvo-perineal condylomatosis</th>\n",
       "      <th>STDs:syphilis</th>\n",
       "      <th>STDs:pelvic inflammatory disease</th>\n",
       "      <th>STDs:genital herpes</th>\n",
       "      <th>STDs:molluscum contagiosum</th>\n",
       "      <th>STDs:HIV</th>\n",
       "      <th>STDs:Hepatitis B</th>\n",
       "      <th>STDs:HPV</th>\n",
       "      <th>Dx:Cancer</th>\n",
       "      <th>Dx:CIN</th>\n",
       "      <th>Dx:HPV</th>\n",
       "      <th>cervical_cancer</th>\n",
       "    </tr>\n",
       "  </thead>\n",
       "  <tbody>\n",
       "    <tr>\n",
       "      <th>255</th>\n",
       "      <td>25.0</td>\n",
       "      <td>2.0</td>\n",
       "      <td>18.0</td>\n",
       "      <td>2.0</td>\n",
       "      <td>0.0</td>\n",
       "      <td>0.0</td>\n",
       "      <td>0.25</td>\n",
       "      <td>0.0</td>\n",
       "      <td>0.0</td>\n",
       "      <td>0.0</td>\n",
       "      <td>0.0</td>\n",
       "      <td>0.0</td>\n",
       "      <td>0.0</td>\n",
       "      <td>0.0</td>\n",
       "      <td>0.0</td>\n",
       "      <td>0.0</td>\n",
       "      <td>0.0</td>\n",
       "      <td>0.0</td>\n",
       "      <td>0.0</td>\n",
       "      <td>0.0</td>\n",
       "      <td>0</td>\n",
       "      <td>0</td>\n",
       "      <td>0</td>\n",
       "      <td>0</td>\n",
       "    </tr>\n",
       "    <tr>\n",
       "      <th>254</th>\n",
       "      <td>25.0</td>\n",
       "      <td>3.0</td>\n",
       "      <td>18.0</td>\n",
       "      <td>1.0</td>\n",
       "      <td>0.0</td>\n",
       "      <td>0.0</td>\n",
       "      <td>0.00</td>\n",
       "      <td>0.0</td>\n",
       "      <td>0.0</td>\n",
       "      <td>0.0</td>\n",
       "      <td>0.0</td>\n",
       "      <td>0.0</td>\n",
       "      <td>0.0</td>\n",
       "      <td>0.0</td>\n",
       "      <td>0.0</td>\n",
       "      <td>0.0</td>\n",
       "      <td>0.0</td>\n",
       "      <td>0.0</td>\n",
       "      <td>0.0</td>\n",
       "      <td>0.0</td>\n",
       "      <td>0</td>\n",
       "      <td>0</td>\n",
       "      <td>0</td>\n",
       "      <td>0</td>\n",
       "    </tr>\n",
       "    <tr>\n",
       "      <th>631</th>\n",
       "      <td>20.0</td>\n",
       "      <td>3.0</td>\n",
       "      <td>15.0</td>\n",
       "      <td>2.0</td>\n",
       "      <td>3.0</td>\n",
       "      <td>3.0</td>\n",
       "      <td>0.00</td>\n",
       "      <td>0.0</td>\n",
       "      <td>0.0</td>\n",
       "      <td>0.0</td>\n",
       "      <td>0.0</td>\n",
       "      <td>0.0</td>\n",
       "      <td>0.0</td>\n",
       "      <td>0.0</td>\n",
       "      <td>0.0</td>\n",
       "      <td>0.0</td>\n",
       "      <td>0.0</td>\n",
       "      <td>0.0</td>\n",
       "      <td>0.0</td>\n",
       "      <td>0.0</td>\n",
       "      <td>0</td>\n",
       "      <td>0</td>\n",
       "      <td>0</td>\n",
       "      <td>0</td>\n",
       "    </tr>\n",
       "  </tbody>\n",
       "</table>\n",
       "</div>"
      ],
      "text/plain": [
       "      Age  Number of sexual partners  First sexual intercourse  \\\n",
       "255  25.0                        2.0                      18.0   \n",
       "254  25.0                        3.0                      18.0   \n",
       "631  20.0                        3.0                      15.0   \n",
       "\n",
       "     Num of pregnancies  Smokes (years)  Smokes (packs/year)  \\\n",
       "255                 2.0             0.0                  0.0   \n",
       "254                 1.0             0.0                  0.0   \n",
       "631                 2.0             3.0                  3.0   \n",
       "\n",
       "     Hormonal Contraceptives (years)  IUD (years)  STDs: Number of diagnosis  \\\n",
       "255                             0.25          0.0                        0.0   \n",
       "254                             0.00          0.0                        0.0   \n",
       "631                             0.00          0.0                        0.0   \n",
       "\n",
       "     STDs  STDs:condylomatosis  STDs:vaginal condylomatosis  \\\n",
       "255   0.0                  0.0                          0.0   \n",
       "254   0.0                  0.0                          0.0   \n",
       "631   0.0                  0.0                          0.0   \n",
       "\n",
       "     STDs:vulvo-perineal condylomatosis  STDs:syphilis  \\\n",
       "255                                 0.0            0.0   \n",
       "254                                 0.0            0.0   \n",
       "631                                 0.0            0.0   \n",
       "\n",
       "     STDs:pelvic inflammatory disease  STDs:genital herpes  \\\n",
       "255                               0.0                  0.0   \n",
       "254                               0.0                  0.0   \n",
       "631                               0.0                  0.0   \n",
       "\n",
       "     STDs:molluscum contagiosum  STDs:HIV  STDs:Hepatitis B  STDs:HPV  \\\n",
       "255                         0.0       0.0               0.0       0.0   \n",
       "254                         0.0       0.0               0.0       0.0   \n",
       "631                         0.0       0.0               0.0       0.0   \n",
       "\n",
       "     Dx:Cancer  Dx:CIN  Dx:HPV  cervical_cancer  \n",
       "255          0       0       0                0  \n",
       "254          0       0       0                0  \n",
       "631          0       0       0                0  "
      ]
     },
     "execution_count": 119,
     "metadata": {},
     "output_type": "execute_result"
    }
   ],
   "source": [
    "new_data = data[numerical + categorical + [\"cervical_cancer\"]].copy()\n",
    "print(new_data.shape)\n",
    "\n",
    "new_data.sample(3)"
   ]
  },
  {
   "cell_type": "code",
   "execution_count": 113,
   "metadata": {
    "hidden": true
   },
   "outputs": [],
   "source": [
    "from sklearn.model_selection import train_test_split"
   ]
  },
  {
   "cell_type": "code",
   "execution_count": 114,
   "metadata": {
    "hidden": true
   },
   "outputs": [
    {
     "data": {
      "text/plain": [
       "((544, 24), (182, 24))"
      ]
     },
     "execution_count": 114,
     "metadata": {},
     "output_type": "execute_result"
    }
   ],
   "source": [
    "data_train, data_test = train_test_split(new_data, test_size=0.25, random_state=0)\n",
    "data_train.shape, data_test.shape"
   ]
  },
  {
   "cell_type": "code",
   "execution_count": 115,
   "metadata": {
    "hidden": true
   },
   "outputs": [],
   "source": [
    "X_train = data_train[numerical + categorical].values.astype(np.float64)\n",
    "y_train = data_train['cervical_cancer'].values.astype(np.int64)"
   ]
  },
  {
   "cell_type": "code",
   "execution_count": 116,
   "metadata": {
    "hidden": true
   },
   "outputs": [
    {
     "name": "stdout",
     "output_type": "stream",
     "text": [
      "Final feature vector shape: (544, 23)\n",
      "Final target vector shape (544,)\n"
     ]
    }
   ],
   "source": [
    "print('Final feature vector shape:',X_train.shape)\n",
    "print('Final target vector shape',y_train.shape)"
   ]
  },
  {
   "cell_type": "code",
   "execution_count": 121,
   "metadata": {
    "hidden": true
   },
   "outputs": [
    {
     "data": {
      "text/plain": [
       "(array([0, 1, 2, 3, 4]), array([477,  27,  17,  20,   3]))"
      ]
     },
     "execution_count": 121,
     "metadata": {},
     "output_type": "execute_result"
    }
   ],
   "source": [
    "np.unique(y_train, return_counts=True) #the dataset is imbalanced"
   ]
  },
  {
   "cell_type": "code",
   "execution_count": 118,
   "metadata": {
    "hidden": true
   },
   "outputs": [
    {
     "data": {
      "text/plain": [
       "((182, 23), (182,))"
      ]
     },
     "execution_count": 118,
     "metadata": {},
     "output_type": "execute_result"
    }
   ],
   "source": [
    "X_test = data_test[numerical + categorical].values.astype(np.float64)\n",
    "y_test = data_test[\"cervical_cancer\"].values.astype(np.int64) ##make sure to do deepcopy\n",
    "X_test.shape, y_test.shape"
   ]
  },
  {
   "cell_type": "markdown",
   "metadata": {
    "heading_collapsed": true
   },
   "source": [
    "## Step 4: Data Scaling & Array conversion"
   ]
  },
  {
   "cell_type": "code",
   "execution_count": 122,
   "metadata": {
    "hidden": true
   },
   "outputs": [],
   "source": [
    "from sklearn.preprocessing import RobustScaler\n",
    "scaler = RobustScaler()\n",
    "scaler.fit(X_train)\n",
    "\n",
    "X_train = scaler.transform(X_train)\n",
    "X_test = scaler.transform(X_test)"
   ]
  },
  {
   "cell_type": "markdown",
   "metadata": {},
   "source": [
    "## Step 5.1: Simple Modelling"
   ]
  },
  {
   "cell_type": "code",
   "execution_count": 123,
   "metadata": {},
   "outputs": [],
   "source": [
    "from sklearn.metrics import confusion_matrix, roc_curve, auc\n",
    "from sklearn.metrics import classification_report\n",
    "from sklearn.metrics import recall_score"
   ]
  },
  {
   "cell_type": "markdown",
   "metadata": {
    "heading_collapsed": true
   },
   "source": [
    "### Logistic Regression"
   ]
  },
  {
   "cell_type": "code",
   "execution_count": 124,
   "metadata": {
    "hidden": true
   },
   "outputs": [
    {
     "name": "stdout",
     "output_type": "stream",
     "text": [
      "Training accuracy : 0.4209558823529412\n",
      "Testing accuracy : 0.4010989010989011\n",
      "              precision    recall  f1-score   support\n",
      "\n",
      "           0       0.91      0.43      0.58       156\n",
      "           1       0.06      0.22      0.09         9\n",
      "           2       0.00      0.00      0.00         3\n",
      "           3       0.14      0.33      0.20        12\n",
      "           4       0.00      0.00      0.00         2\n",
      "\n",
      "    accuracy                           0.40       182\n",
      "   macro avg       0.22      0.20      0.17       182\n",
      "weighted avg       0.79      0.40      0.52       182\n",
      "\n",
      "[[67 30 23 22 14]\n",
      " [ 3  2  2  2  0]\n",
      " [ 1  2  0  0  0]\n",
      " [ 3  1  3  4  1]\n",
      " [ 0  1  0  1  0]]\n"
     ]
    }
   ],
   "source": [
    "from sklearn.linear_model import LogisticRegression\n",
    "\n",
    "# creating the model\n",
    "model = LogisticRegression(solver=\"sag\", \n",
    "                           multi_class=\"auto\",\n",
    "                           class_weight=\"balanced\",\n",
    "                           max_iter=5000)\n",
    "\n",
    "# feeding the training data into the model\n",
    "model.fit(X_train, y_train)\n",
    "\n",
    "# predicting the test set results\n",
    "y_pred = model.predict(X_test)\n",
    "\n",
    "# Calculating the accuracies\n",
    "print(\"Training accuracy :\", model.score(X_train, y_train))\n",
    "print(\"Testing accuracy :\", model.score(X_test, y_test))\n",
    "\n",
    "# classification report\n",
    "print(classification_report(y_test, y_pred))\n",
    "\n",
    "# confusion matrix \n",
    "print(confusion_matrix(y_test, y_pred))"
   ]
  },
  {
   "cell_type": "markdown",
   "metadata": {},
   "source": [
    "### SVM"
   ]
  },
  {
   "cell_type": "code",
   "execution_count": 125,
   "metadata": {},
   "outputs": [
    {
     "name": "stdout",
     "output_type": "stream",
     "text": [
      "Training accuracy : 0.6875\n",
      "Testing accuracy : 0.5604395604395604\n",
      "              precision    recall  f1-score   support\n",
      "\n",
      "           0       0.89      0.62      0.73       156\n",
      "           1       0.05      0.22      0.08         9\n",
      "           2       0.00      0.00      0.00         3\n",
      "           3       0.17      0.25      0.20        12\n",
      "           4       0.00      0.00      0.00         2\n",
      "\n",
      "    accuracy                           0.56       182\n",
      "   macro avg       0.22      0.22      0.20       182\n",
      "weighted avg       0.78      0.56      0.64       182\n",
      "\n",
      "[[97 33 14 12  0]\n",
      " [ 4  2  0  3  0]\n",
      " [ 1  2  0  0  0]\n",
      " [ 5  3  1  3  0]\n",
      " [ 2  0  0  0  0]]\n"
     ]
    }
   ],
   "source": [
    "from sklearn.svm import SVC\n",
    "\n",
    "# creating the model\n",
    "model = SVC(gamma=\"auto\", \n",
    "            kernel='rbf', #radial basis function\n",
    "            class_weight=\"balanced\")\n",
    "\n",
    "# feeding the training data into the model\n",
    "model.fit(X_train, y_train)\n",
    "\n",
    "# predicting the test set results\n",
    "y_pred = model.predict(X_test)\n",
    "\n",
    "# Calculating the accuracies\n",
    "print(\"Training accuracy :\", model.score(X_train, y_train))\n",
    "print(\"Testing accuracy :\", model.score(X_test, y_test))\n",
    "\n",
    "# classification report\n",
    "print(classification_report(y_test, y_pred))\n",
    "\n",
    "# confusion matrix \n",
    "print(confusion_matrix(y_test, y_pred))"
   ]
  },
  {
   "cell_type": "markdown",
   "metadata": {
    "heading_collapsed": true
   },
   "source": [
    "### Decision Trees"
   ]
  },
  {
   "cell_type": "code",
   "execution_count": 126,
   "metadata": {
    "hidden": true
   },
   "outputs": [
    {
     "name": "stdout",
     "output_type": "stream",
     "text": [
      "Training accuracy : 1.0\n",
      "Testing accuracy : 0.7417582417582418\n",
      "              precision    recall  f1-score   support\n",
      "\n",
      "           0       0.88      0.85      0.86       156\n",
      "           1       0.08      0.11      0.10         9\n",
      "           2       0.00      0.00      0.00         3\n",
      "           3       0.09      0.08      0.09        12\n",
      "           4       0.00      0.00      0.00         2\n",
      "\n",
      "    accuracy                           0.74       182\n",
      "   macro avg       0.21      0.21      0.21       182\n",
      "weighted avg       0.76      0.74      0.75       182\n",
      "\n",
      "[[133   9   4  10   0]\n",
      " [  6   1   1   0   1]\n",
      " [  3   0   0   0   0]\n",
      " [  8   2   1   1   0]\n",
      " [  2   0   0   0   0]]\n"
     ]
    }
   ],
   "source": [
    "from sklearn.tree import DecisionTreeClassifier\n",
    "\n",
    "#creating the model\n",
    "model = DecisionTreeClassifier(class_weight=\"balanced\")\n",
    "\n",
    "# feeding the training data into the model\n",
    "model.fit(X_train, y_train)\n",
    "\n",
    "#predicting the test set results\n",
    "y_pred = model.predict(X_test)\n",
    "\n",
    "# Calculating the accuracies\n",
    "print(\"Training accuracy :\", model.score(X_train, y_train))\n",
    "print(\"Testing accuracy :\", model.score(X_test, y_test))\n",
    "\n",
    "# classification report\n",
    "print(classification_report(y_test, y_pred))\n",
    "\n",
    "# confusion matrix \n",
    "print(confusion_matrix(y_test, y_pred))"
   ]
  },
  {
   "cell_type": "markdown",
   "metadata": {
    "heading_collapsed": true
   },
   "source": [
    "### Decision Tree Visualisation"
   ]
  },
  {
   "cell_type": "code",
   "execution_count": null,
   "metadata": {
    "hidden": true
   },
   "outputs": [],
   "source": [
    "#export_graphviz function converts decision tree classifier into dot file and \n",
    "#pydotplus convert this dot file to #png or displayable form on Jupyter.\n",
    "from sklearn.tree import export_graphviz\n",
    "from sklearn.externals.six import StringIO  \n",
    "from IPython.display import Image  \n",
    "import pydotplus\n",
    "\n",
    "dot_data = StringIO()\n",
    "\n",
    "export_graphviz(model, out_file=dot_data,\n",
    "                feature_names=numerical+categorical,\n",
    "                filled=True, rounded=True,\n",
    "                special_characters=True)\n",
    "    \n",
    "graph = pydotplus.graph_from_dot_data(dot_data.getvalue())  \n",
    "graph.write_png('cervical_cancer.png')\n",
    "Image(graph.create_png())"
   ]
  },
  {
   "cell_type": "markdown",
   "metadata": {
    "heading_collapsed": true
   },
   "source": [
    "### Random Forest"
   ]
  },
  {
   "cell_type": "code",
   "execution_count": null,
   "metadata": {
    "hidden": true
   },
   "outputs": [],
   "source": [
    "from sklearn.ensemble import RandomForestClassifier\n",
    "\n",
    "# creating the model\n",
    "model = RandomForestClassifier()\n",
    "\n",
    "# feeding the training data into the model\n",
    "model.fit(X_train, y_train)\n",
    "\n",
    "# predicting the test set results\n",
    "y_pred = model.predict(X_test)\n",
    "\n",
    "# Calculating the accuracies\n",
    "print(\"Training accuracy :\", model.score(X_train, y_train))\n",
    "print(\"Testing accuracy :\", model.score(X_test, y_test))\n",
    "\n",
    "# classification report\n",
    "print(classification_report(y_test, y_pred))\n",
    "\n",
    "# confusion matrix \n",
    "print(confusion_matrix(y_test, y_pred))"
   ]
  },
  {
   "cell_type": "markdown",
   "metadata": {
    "heading_collapsed": true
   },
   "source": [
    "### AdaBoost"
   ]
  },
  {
   "cell_type": "code",
   "execution_count": null,
   "metadata": {
    "hidden": true
   },
   "outputs": [],
   "source": [
    "from sklearn.ensemble import AdaBoostClassifier\n",
    "\n",
    "# creating the model\n",
    "model = AdaBoostClassifier()\n",
    "\n",
    "# feeding the training data into the model\n",
    "model.fit(X_train, y_train)\n",
    "\n",
    "# predicting the test set results\n",
    "y_pred = model.predict(X_test)\n",
    "\n",
    "# Calculating the accuracies\n",
    "print(\"Training accuracy :\", model.score(X_train, y_train))\n",
    "print(\"Testing accuracy :\", model.score(X_test, y_test))\n",
    "\n",
    "# classification report\n",
    "print(classification_report(y_test, y_pred))\n",
    "\n",
    "# confusion matrix \n",
    "print(confusion_matrix(y_test, y_pred))"
   ]
  },
  {
   "cell_type": "markdown",
   "metadata": {
    "heading_collapsed": true
   },
   "source": [
    "### XGBoost"
   ]
  },
  {
   "cell_type": "code",
   "execution_count": null,
   "metadata": {
    "hidden": true
   },
   "outputs": [],
   "source": [
    "import xgboost as xgb\n",
    "\n",
    "eval_set = [(X_test, y_test)]\n",
    "\n",
    "model = xgb.XGBClassifier(gamma=0.024, learning_rate=0.3, \n",
    "                          max_depth=6,\n",
    "                          nthread=4,\n",
    "                          n_estimators=1000,\n",
    "                          objective=\"multi:softmax\")\n",
    "\n",
    "model.silent=True #can also be \"False\"\n",
    "\n",
    "model.fit(X_train,y_train, early_stopping_rounds=10, \n",
    "          eval_set=eval_set,\n",
    "          verbose=True,\n",
    "          eval_metric=\"merror\")\n",
    "\n",
    "# predicting the test set results\n",
    "y_pred = model.predict(X_test)\n",
    "\n",
    "# Calculating the accuracies\n",
    "print(\"Training accuracy :\", model.score(X_train, y_train))\n",
    "print(\"Testing accuracy :\", model.score(X_test, y_test))\n",
    "\n",
    "# classification report\n",
    "print(classification_report(y_test, y_pred))\n",
    "\n",
    "# confusion matrix \n",
    "print(confusion_matrix(y_test, y_pred))"
   ]
  },
  {
   "cell_type": "markdown",
   "metadata": {},
   "source": [
    "## Step 5.2: Handling Imbalance in Dataset with Synthetic Minority Over-sampling Technique - SMOTE"
   ]
  },
  {
   "cell_type": "code",
   "execution_count": 127,
   "metadata": {},
   "outputs": [],
   "source": [
    "from sklearn.metrics import confusion_matrix, roc_curve, auc\n",
    "from sklearn.metrics import classification_report\n",
    "from sklearn.metrics import recall_score"
   ]
  },
  {
   "cell_type": "markdown",
   "metadata": {},
   "source": [
    "As there are only 5 data points in the class 4, it is difficult to train and test the model. To overcome this problem of imbalance, oversampling technique is used with SMOTE."
   ]
  },
  {
   "cell_type": "code",
   "execution_count": null,
   "metadata": {},
   "outputs": [],
   "source": [
    "#y_train = y_train.astype(int)\n",
    "#y_train = y_train.ravel()"
   ]
  },
  {
   "cell_type": "code",
   "execution_count": 128,
   "metadata": {},
   "outputs": [
    {
     "data": {
      "text/plain": [
       "((544, 23), (544,), (array([0, 1, 2, 3, 4]), array([477,  27,  17,  20,   3])))"
      ]
     },
     "execution_count": 128,
     "metadata": {},
     "output_type": "execute_result"
    }
   ],
   "source": [
    "X_train.shape, y_train.shape, np.unique(y_train, return_counts=True)"
   ]
  },
  {
   "cell_type": "code",
   "execution_count": 129,
   "metadata": {},
   "outputs": [
    {
     "name": "stderr",
     "output_type": "stream",
     "text": [
      "/anaconda3/envs/tutor/lib/python3.6/site-packages/sklearn/externals/six.py:31: DeprecationWarning: The module is deprecated in version 0.21 and will be removed in version 0.23 since we've dropped support for Python 2.7. Please rely on the official version of six (https://pypi.org/project/six/).\n",
      "  \"(https://pypi.org/project/six/).\", DeprecationWarning)\n"
     ]
    }
   ],
   "source": [
    "from imblearn.over_sampling import SMOTE\n",
    "X_train, y_train = SMOTE(sampling_strategy=\"not majority\", \n",
    "                         k_neighbors=2).fit_resample(X_train, y_train)"
   ]
  },
  {
   "cell_type": "code",
   "execution_count": 130,
   "metadata": {},
   "outputs": [
    {
     "data": {
      "text/plain": [
       "((2385, 23),\n",
       " (2385,),\n",
       " (array([0, 1, 2, 3, 4]), array([477, 477, 477, 477, 477])))"
      ]
     },
     "execution_count": 130,
     "metadata": {},
     "output_type": "execute_result"
    }
   ],
   "source": [
    "X_train.shape, y_train.shape, np.unique(y_train, return_counts=True)"
   ]
  },
  {
   "cell_type": "markdown",
   "metadata": {},
   "source": [
    "### Logistic Regression"
   ]
  },
  {
   "cell_type": "code",
   "execution_count": 132,
   "metadata": {},
   "outputs": [
    {
     "name": "stdout",
     "output_type": "stream",
     "text": [
      "Training accuracy : 0.5966457023060797\n",
      "Testing accuracy : 0.27472527472527475\n",
      "              precision    recall  f1-score   support\n",
      "\n",
      "           0       0.92      0.28      0.43       156\n",
      "           1       0.06      0.33      0.10         9\n",
      "           2       0.00      0.00      0.00         3\n",
      "           3       0.10      0.25      0.14        12\n",
      "           4       0.00      0.00      0.00         2\n",
      "\n",
      "    accuracy                           0.27       182\n",
      "   macro avg       0.21      0.17      0.13       182\n",
      "weighted avg       0.79      0.27      0.38       182\n",
      "\n"
     ]
    }
   ],
   "source": [
    "from sklearn.linear_model import LogisticRegression\n",
    "from sklearn.metrics import confusion_matrix, roc_curve, auc\n",
    "from sklearn.metrics import classification_report\n",
    "from sklearn.metrics import recall_score\n",
    "\n",
    "# creating the model\n",
    "model = LogisticRegression(solver=\"sag\", multi_class=\"auto\", max_iter=5000)\n",
    "\n",
    "# feeding the training data into the model\n",
    "model.fit(X_train, y_train)\n",
    "\n",
    "# predicting the test set results\n",
    "y_pred = model.predict(X_test)\n",
    "\n",
    "# Calculating the accuracies\n",
    "print(\"Training accuracy :\", model.score(X_train, y_train))\n",
    "print(\"Testing accuracy :\", model.score(X_test, y_test))\n",
    "\n",
    "# classification report\n",
    "print(classification_report(y_test, y_pred))"
   ]
  },
  {
   "cell_type": "markdown",
   "metadata": {
    "heading_collapsed": true
   },
   "source": [
    "### SVM"
   ]
  },
  {
   "cell_type": "code",
   "execution_count": 134,
   "metadata": {
    "hidden": true
   },
   "outputs": [
    {
     "name": "stdout",
     "output_type": "stream",
     "text": [
      "Training accuracy : 0.7568134171907757\n",
      "Testing accuracy : 0.33516483516483514\n",
      "              precision    recall  f1-score   support\n",
      "\n",
      "           0       0.90      0.37      0.52       156\n",
      "           1       0.04      0.22      0.06         9\n",
      "           2       0.00      0.00      0.00         3\n",
      "           3       0.07      0.17      0.10        12\n",
      "           4       0.00      0.00      0.00         2\n",
      "\n",
      "    accuracy                           0.34       182\n",
      "   macro avg       0.20      0.15      0.14       182\n",
      "weighted avg       0.78      0.34      0.46       182\n",
      "\n",
      "[[57 46 28 24  1]\n",
      " [ 2  2  2  3  0]\n",
      " [ 2  1  0  0  0]\n",
      " [ 2  5  3  2  0]\n",
      " [ 0  2  0  0  0]]\n"
     ]
    }
   ],
   "source": [
    "from sklearn.svm import SVC\n",
    "\n",
    "# creating the model\n",
    "model = SVC(gamma=\"auto\", kernel='rbf')\n",
    "\n",
    "# feeding the training data into the model\n",
    "model.fit(X_train, y_train)\n",
    "\n",
    "# predicting the test set results\n",
    "y_pred = model.predict(X_test)\n",
    "\n",
    "# Calculating the accuracies\n",
    "print(\"Training accuracy :\", model.score(X_train, y_train))\n",
    "print(\"Testing accuracy :\", model.score(X_test, y_test))\n",
    "\n",
    "# classification report\n",
    "print(classification_report(y_test, y_pred))\n",
    "\n",
    "# confusion matrix \n",
    "print(confusion_matrix(y_test, y_pred))"
   ]
  },
  {
   "cell_type": "markdown",
   "metadata": {},
   "source": [
    "### Decision Trees"
   ]
  },
  {
   "cell_type": "code",
   "execution_count": 136,
   "metadata": {},
   "outputs": [
    {
     "name": "stdout",
     "output_type": "stream",
     "text": [
      "Training accuracy : 1.0\n",
      "Testing accuracy : 0.6868131868131868\n",
      "              precision    recall  f1-score   support\n",
      "\n",
      "           0       0.90      0.78      0.83       156\n",
      "           1       0.06      0.11      0.07         9\n",
      "           2       0.00      0.00      0.00         3\n",
      "           3       0.21      0.25      0.23        12\n",
      "           4       0.00      0.00      0.00         2\n",
      "\n",
      "    accuracy                           0.69       182\n",
      "   macro avg       0.23      0.23      0.23       182\n",
      "weighted avg       0.79      0.69      0.73       182\n",
      "\n",
      "[[121  15  12   7   1]\n",
      " [  5   1   0   3   0]\n",
      " [  1   1   0   1   0]\n",
      " [  6   1   2   3   0]\n",
      " [  2   0   0   0   0]]\n"
     ]
    }
   ],
   "source": [
    "from sklearn.tree import DecisionTreeClassifier\n",
    "\n",
    "# creating the model\n",
    "model_s = DecisionTreeClassifier()\n",
    "\n",
    "# feeding the training data into the model\n",
    "model_s.fit(X_train, y_train)\n",
    "\n",
    "# predicting the test set results\n",
    "y_pred = model_s.predict(X_test)\n",
    "\n",
    "# Calculating the accuracies\n",
    "print(\"Training accuracy :\", model_s.score(X_train, y_train))\n",
    "print(\"Testing accuracy :\", model_s.score(X_test, y_test))\n",
    "\n",
    "# classification report\n",
    "print(classification_report(y_test, y_pred))\n",
    "\n",
    "# confusion matrix \n",
    "print(confusion_matrix(y_test, y_pred))"
   ]
  },
  {
   "cell_type": "markdown",
   "metadata": {},
   "source": [
    "### Random Forest"
   ]
  },
  {
   "cell_type": "code",
   "execution_count": 138,
   "metadata": {},
   "outputs": [
    {
     "name": "stdout",
     "output_type": "stream",
     "text": [
      "Training accuracy : 0.9983228511530399\n",
      "Testing accuracy : 0.7967032967032966\n",
      "              precision    recall  f1-score   support\n",
      "\n",
      "           0       0.89      0.91      0.90       156\n",
      "           1       0.00      0.00      0.00         9\n",
      "           2       0.00      0.00      0.00         3\n",
      "           3       0.30      0.25      0.27        12\n",
      "           4       0.00      0.00      0.00         2\n",
      "\n",
      "    accuracy                           0.80       182\n",
      "   macro avg       0.24      0.23      0.23       182\n",
      "weighted avg       0.78      0.80      0.79       182\n",
      "\n",
      "[[142   8   1   5   0]\n",
      " [  7   0   0   2   0]\n",
      " [  2   1   0   0   0]\n",
      " [  7   1   1   3   0]\n",
      " [  2   0   0   0   0]]\n"
     ]
    }
   ],
   "source": [
    "from sklearn.ensemble import RandomForestClassifier\n",
    "\n",
    "# creating the model\n",
    "model_rf = RandomForestClassifier()\n",
    "\n",
    "# feeding the training data into the model\n",
    "model_rf.fit(X_train, y_train)\n",
    "\n",
    "# predicting the test set results\n",
    "y_pred = model_rf.predict(X_test)\n",
    "\n",
    "# Calculating the accuracies\n",
    "print(\"Training accuracy :\", model_rf.score(X_train, y_train))\n",
    "print(\"Testing accuracy :\", model_rf.score(X_test, y_test))\n",
    "\n",
    "# classification report\n",
    "print(classification_report(y_test, y_pred))\n",
    "\n",
    "# confusion matrix \n",
    "print(confusion_matrix(y_test, y_pred))"
   ]
  },
  {
   "cell_type": "markdown",
   "metadata": {},
   "source": [
    "### AdaBoost"
   ]
  },
  {
   "cell_type": "code",
   "execution_count": 139,
   "metadata": {},
   "outputs": [
    {
     "name": "stdout",
     "output_type": "stream",
     "text": [
      "Training accuracy : 0.4389937106918239\n",
      "Testing accuracy : 0.22527472527472528\n",
      "              precision    recall  f1-score   support\n",
      "\n",
      "           0       0.85      0.22      0.35       156\n",
      "           1       0.07      0.56      0.12         9\n",
      "           2       0.00      0.00      0.00         3\n",
      "           3       0.05      0.17      0.08        12\n",
      "           4       0.00      0.00      0.00         2\n",
      "\n",
      "    accuracy                           0.23       182\n",
      "   macro avg       0.19      0.19      0.11       182\n",
      "weighted avg       0.74      0.23      0.31       182\n",
      "\n",
      "[[34 59 29 31  3]\n",
      " [ 1  5  0  3  0]\n",
      " [ 1  1  0  1  0]\n",
      " [ 3  6  1  2  0]\n",
      " [ 1  1  0  0  0]]\n"
     ]
    }
   ],
   "source": [
    "from sklearn.ensemble import AdaBoostClassifier\n",
    "\n",
    "# creating the model\n",
    "model = AdaBoostClassifier()\n",
    "\n",
    "# feeding the training data into the model\n",
    "model.fit(X_train, y_train)\n",
    "\n",
    "# predicting the test set results\n",
    "y_pred = model.predict(X_test)\n",
    "\n",
    "# Calculating the accuracies\n",
    "print(\"Training accuracy :\", model.score(X_train, y_train))\n",
    "print(\"Testing accuracy :\", model.score(X_test, y_test))\n",
    "\n",
    "# classification report\n",
    "print(classification_report(y_test, y_pred))\n",
    "\n",
    "# confusion matrix \n",
    "print(confusion_matrix(y_test, y_pred))"
   ]
  },
  {
   "cell_type": "markdown",
   "metadata": {},
   "source": [
    "### XgBoost"
   ]
  },
  {
   "cell_type": "code",
   "execution_count": 135,
   "metadata": {},
   "outputs": [
    {
     "name": "stdout",
     "output_type": "stream",
     "text": [
      "[0]\tvalidation_0-merror:0.428571\n",
      "Will train until validation_0-merror hasn't improved in 10 rounds.\n",
      "[1]\tvalidation_0-merror:0.423077\n",
      "[2]\tvalidation_0-merror:0.32967\n",
      "[3]\tvalidation_0-merror:0.32967\n",
      "[4]\tvalidation_0-merror:0.32967\n",
      "[5]\tvalidation_0-merror:0.313187\n",
      "[6]\tvalidation_0-merror:0.291209\n",
      "[7]\tvalidation_0-merror:0.269231\n",
      "[8]\tvalidation_0-merror:0.285714\n",
      "[9]\tvalidation_0-merror:0.269231\n",
      "[10]\tvalidation_0-merror:0.258242\n",
      "[11]\tvalidation_0-merror:0.258242\n",
      "[12]\tvalidation_0-merror:0.236264\n",
      "[13]\tvalidation_0-merror:0.225275\n",
      "[14]\tvalidation_0-merror:0.225275\n",
      "[15]\tvalidation_0-merror:0.225275\n",
      "[16]\tvalidation_0-merror:0.21978\n",
      "[17]\tvalidation_0-merror:0.225275\n",
      "[18]\tvalidation_0-merror:0.225275\n",
      "[19]\tvalidation_0-merror:0.230769\n",
      "[20]\tvalidation_0-merror:0.230769\n",
      "[21]\tvalidation_0-merror:0.236264\n",
      "[22]\tvalidation_0-merror:0.236264\n",
      "[23]\tvalidation_0-merror:0.230769\n",
      "[24]\tvalidation_0-merror:0.225275\n",
      "[25]\tvalidation_0-merror:0.21978\n",
      "[26]\tvalidation_0-merror:0.208791\n",
      "[27]\tvalidation_0-merror:0.208791\n",
      "[28]\tvalidation_0-merror:0.208791\n",
      "[29]\tvalidation_0-merror:0.203297\n",
      "[30]\tvalidation_0-merror:0.203297\n",
      "[31]\tvalidation_0-merror:0.208791\n",
      "[32]\tvalidation_0-merror:0.208791\n",
      "[33]\tvalidation_0-merror:0.208791\n",
      "[34]\tvalidation_0-merror:0.208791\n",
      "[35]\tvalidation_0-merror:0.203297\n",
      "[36]\tvalidation_0-merror:0.203297\n",
      "[37]\tvalidation_0-merror:0.197802\n",
      "[38]\tvalidation_0-merror:0.197802\n",
      "[39]\tvalidation_0-merror:0.186813\n",
      "[40]\tvalidation_0-merror:0.186813\n",
      "[41]\tvalidation_0-merror:0.186813\n",
      "[42]\tvalidation_0-merror:0.186813\n",
      "[43]\tvalidation_0-merror:0.186813\n",
      "[44]\tvalidation_0-merror:0.186813\n",
      "[45]\tvalidation_0-merror:0.186813\n",
      "[46]\tvalidation_0-merror:0.186813\n",
      "[47]\tvalidation_0-merror:0.186813\n",
      "[48]\tvalidation_0-merror:0.186813\n",
      "[49]\tvalidation_0-merror:0.186813\n",
      "Stopping. Best iteration:\n",
      "[39]\tvalidation_0-merror:0.186813\n",
      "\n",
      "Training accuracy : 0.9974842767295597\n",
      "Testing accuracy : 0.8131868131868132\n",
      "              precision    recall  f1-score   support\n",
      "\n",
      "           0       0.87      0.94      0.90       156\n",
      "           1       0.00      0.00      0.00         9\n",
      "           2       0.00      0.00      0.00         3\n",
      "           3       0.14      0.08      0.11        12\n",
      "           4       0.00      0.00      0.00         2\n",
      "\n",
      "    accuracy                           0.81       182\n",
      "   macro avg       0.20      0.21      0.20       182\n",
      "weighted avg       0.75      0.81      0.78       182\n",
      "\n",
      "[[147   3   1   5   0]\n",
      " [  8   0   0   1   0]\n",
      " [  3   0   0   0   0]\n",
      " [  9   1   1   1   0]\n",
      " [  2   0   0   0   0]]\n"
     ]
    }
   ],
   "source": [
    "import xgboost as xgb\n",
    "\n",
    "eval_set = [(X_test, y_test)]\n",
    "\n",
    "model_xgbs = xgb.XGBClassifier(gamma=0.024, learning_rate=0.3, \n",
    "                          max_depth=6,\n",
    "                          nthread=4,\n",
    "                          n_estimators=1000,\n",
    "                          objective=\"multi:softmax\")\n",
    "\n",
    "model_xgbs.silent=False\n",
    "\n",
    "model_xgbs.fit(X_train,y_train, early_stopping_rounds=10, \n",
    "          eval_set=eval_set,\n",
    "          verbose=True,\n",
    "          eval_metric=\"merror\") #https://xgboost.readthedocs.io/en/latest/parameter.html\n",
    "\n",
    "# predicting the test set results\n",
    "y_pred = model_xgbs.predict(X_test)\n",
    "\n",
    "# Calculating the accuracies\n",
    "print(\"Training accuracy :\", model_xgbs.score(X_train, y_train))\n",
    "print(\"Testing accuracy :\", model_xgbs.score(X_test, y_test))\n",
    "\n",
    "# classification report\n",
    "print(classification_report(y_test, y_pred))\n",
    "\n",
    "# confusion matrix \n",
    "print(confusion_matrix(y_test, y_pred))"
   ]
  },
  {
   "cell_type": "code",
   "execution_count": null,
   "metadata": {},
   "outputs": [],
   "source": []
  },
  {
   "cell_type": "markdown",
   "metadata": {
    "heading_collapsed": true
   },
   "source": [
    "### References:\n",
    "\n",
    "- https://ieeexplore.ieee.org/stamp/stamp.jsp?tp=&arnumber=8070120\n",
    "- https://www.youtube.com/watch?v=TFPhhioOuZc"
   ]
  }
 ],
 "metadata": {
  "kernelspec": {
   "display_name": "Python 3",
   "language": "python",
   "name": "python3"
  },
  "language_info": {
   "codemirror_mode": {
    "name": "ipython",
    "version": 3
   },
   "file_extension": ".py",
   "mimetype": "text/x-python",
   "name": "python",
   "nbconvert_exporter": "python",
   "pygments_lexer": "ipython3",
   "version": "3.6.5"
  }
 },
 "nbformat": 4,
 "nbformat_minor": 2
}
